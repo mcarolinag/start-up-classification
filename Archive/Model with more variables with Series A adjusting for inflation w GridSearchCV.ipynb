{
 "cells": [
  {
   "cell_type": "code",
   "execution_count": 1,
   "metadata": {},
   "outputs": [],
   "source": [
    "import requests\n",
    "import time\n",
    "import numpy as np\n",
    "import pandas as pd\n",
    "from bs4 import BeautifulSoup\n",
    "from selenium import webdriver\n",
    "from selenium.webdriver.common.keys import Keys\n",
    "import time\n",
    "import os"
   ]
  },
  {
   "cell_type": "code",
   "execution_count": 2,
   "metadata": {},
   "outputs": [],
   "source": [
    "from sqlalchemy import create_engine, inspect"
   ]
  },
  {
   "cell_type": "code",
   "execution_count": 3,
   "metadata": {},
   "outputs": [],
   "source": [
    "from datetime import timedelta"
   ]
  },
  {
   "cell_type": "code",
   "execution_count": 4,
   "metadata": {},
   "outputs": [
    {
     "name": "stderr",
     "output_type": "stream",
     "text": [
      "/anaconda3/lib/python3.6/site-packages/sklearn/cross_validation.py:41: DeprecationWarning: This module was deprecated in version 0.18 in favor of the model_selection module into which all the refactored classes and functions are moved. Also note that the interface of the new CV iterators are different from that of this module. This module will be removed in 0.20.\n",
      "  \"This module will be removed in 0.20.\", DeprecationWarning)\n"
     ]
    }
   ],
   "source": [
    "from patsy import dmatrices\n",
    "\n",
    "from sklearn import linear_model as lm\n",
    "from sklearn.linear_model import LogisticRegression\n",
    "from sklearn import cross_validation\n",
    "from sklearn import metrics\n",
    "from sklearn.metrics import confusion_matrix"
   ]
  },
  {
   "cell_type": "code",
   "execution_count": 5,
   "metadata": {},
   "outputs": [],
   "source": [
    "from sklearn.metrics import roc_curve, auc"
   ]
  },
  {
   "cell_type": "code",
   "execution_count": 6,
   "metadata": {},
   "outputs": [],
   "source": [
    "from sklearn.model_selection import train_test_split"
   ]
  },
  {
   "cell_type": "code",
   "execution_count": 7,
   "metadata": {},
   "outputs": [],
   "source": [
    "from sklearn import pipeline, preprocessing"
   ]
  },
  {
   "cell_type": "code",
   "execution_count": 8,
   "metadata": {},
   "outputs": [],
   "source": [
    "from sklearn.linear_model import LogisticRegression"
   ]
  },
  {
   "cell_type": "code",
   "execution_count": 9,
   "metadata": {},
   "outputs": [],
   "source": [
    "from sklearn.tree import DecisionTreeClassifier\n",
    "from sklearn.svm import LinearSVC\n",
    "from sklearn.svm import SVC\n",
    "from sklearn.ensemble import RandomForestClassifier\n",
    "from sklearn.linear_model import LogisticRegression\n",
    "from sklearn.ensemble import GradientBoostingClassifier"
   ]
  },
  {
   "cell_type": "code",
   "execution_count": 10,
   "metadata": {},
   "outputs": [],
   "source": [
    "from sklearn import naive_bayes\n",
    "from sklearn.metrics import accuracy_score, classification_report"
   ]
  },
  {
   "cell_type": "code",
   "execution_count": 11,
   "metadata": {},
   "outputs": [],
   "source": [
    "import matplotlib.pyplot as plt\n",
    "import seaborn as sns\n",
    "%matplotlib inline"
   ]
  },
  {
   "cell_type": "code",
   "execution_count": 12,
   "metadata": {},
   "outputs": [],
   "source": [
    "from sklearn.model_selection import GridSearchCV"
   ]
  },
  {
   "cell_type": "code",
   "execution_count": 196,
   "metadata": {},
   "outputs": [],
   "source": [
    "from sklearn.metrics import precision_recall_curve"
   ]
  },
  {
   "cell_type": "code",
   "execution_count": 200,
   "metadata": {},
   "outputs": [],
   "source": [
    "from sklearn.metrics import average_precision_score"
   ]
  },
  {
   "cell_type": "code",
   "execution_count": 204,
   "metadata": {},
   "outputs": [],
   "source": [
    "from sklearn.metrics import recall_score"
   ]
  },
  {
   "cell_type": "code",
   "execution_count": 13,
   "metadata": {},
   "outputs": [],
   "source": [
    "df=pd.read_csv('start-up.csv',index_col=0 )"
   ]
  },
  {
   "cell_type": "code",
   "execution_count": 257,
   "metadata": {},
   "outputs": [
    {
     "data": {
      "text/plain": [
       "Index(['permalink', 'company_name', 'category_code', 'funding_total_usd',\n",
       "       'status', 'country_code', 'state_code', 'region', 'city',\n",
       "       'funding_rounds', 'founded_at', 'founded_month', 'founded_quarter',\n",
       "       'founded_year', 'first_funding_at', 'last_funding_at',\n",
       "       'last_milestone_at', 'days_in_op', 'first_funding_dayinop',\n",
       "       'last_funding_dayinop', 'sa_funded_at', 'sa_raised_amount_usd',\n",
       "       'sa_funded_daysop', 'ag_funded_at', 'ag_raised_amount_usd',\n",
       "       've_funded_at', 've_raised_amount_usd', 'ag_funded_daysop',\n",
       "       've_funded_daysop', 'CA', 'NY', 'MA', 'TX', 'WA', 'cr_funded_at',\n",
       "       'cr_raised_amount_usd', 'cr_funded_daysop', 'ave_inf_y', 'adj_base2018',\n",
       "       'sa_raised_amount_usd_adj', 'ag_raised_amount_usd_adj',\n",
       "       've_raised_amount_usd_adj', 'cr_raised_amount_usd_adj'],\n",
       "      dtype='object')"
      ]
     },
     "execution_count": 257,
     "metadata": {},
     "output_type": "execute_result"
    }
   ],
   "source": [
    "df.columns"
   ]
  },
  {
   "cell_type": "code",
   "execution_count": 258,
   "metadata": {},
   "outputs": [
    {
     "name": "stdout",
     "output_type": "stream",
     "text": [
      "<class 'pandas.core.frame.DataFrame'>\n",
      "Int64Index: 8048 entries, 0 to 8047\n",
      "Data columns (total 43 columns):\n",
      "permalink                   8048 non-null object\n",
      "company_name                8048 non-null object\n",
      "category_code               8048 non-null object\n",
      "funding_total_usd           8048 non-null object\n",
      "status                      8048 non-null object\n",
      "country_code                8048 non-null object\n",
      "state_code                  8048 non-null object\n",
      "region                      8048 non-null object\n",
      "city                        8048 non-null object\n",
      "funding_rounds              8048 non-null int64\n",
      "founded_at                  8048 non-null object\n",
      "founded_month               8048 non-null int64\n",
      "founded_quarter             8048 non-null object\n",
      "founded_year                8048 non-null int64\n",
      "first_funding_at            8048 non-null object\n",
      "last_funding_at             8048 non-null object\n",
      "last_milestone_at           8048 non-null object\n",
      "days_in_op                  8048 non-null object\n",
      "first_funding_dayinop       8048 non-null float64\n",
      "last_funding_dayinop        8048 non-null object\n",
      "sa_funded_at                8048 non-null object\n",
      "sa_raised_amount_usd        5483 non-null float64\n",
      "sa_funded_daysop            8048 non-null float64\n",
      "ag_funded_at                8048 non-null object\n",
      "ag_raised_amount_usd        8048 non-null float64\n",
      "ve_funded_at                8048 non-null object\n",
      "ve_raised_amount_usd        8048 non-null float64\n",
      "ag_funded_daysop            8048 non-null object\n",
      "ve_funded_daysop            8048 non-null float64\n",
      "CA                          8048 non-null float64\n",
      "NY                          8048 non-null float64\n",
      "MA                          8048 non-null float64\n",
      "TX                          8048 non-null int64\n",
      "WA                          8048 non-null int64\n",
      "cr_funded_at                8048 non-null int64\n",
      "cr_raised_amount_usd        8048 non-null int64\n",
      "cr_funded_daysop            8048 non-null int64\n",
      "ave_inf_y                   8046 non-null float64\n",
      "adj_base2018                8046 non-null float64\n",
      "sa_raised_amount_usd_adj    5482 non-null float64\n",
      "ag_raised_amount_usd_adj    8046 non-null float64\n",
      "ve_raised_amount_usd_adj    8046 non-null float64\n",
      "cr_raised_amount_usd_adj    8046 non-null float64\n",
      "dtypes: float64(15), int64(8), object(20)\n",
      "memory usage: 2.7+ MB\n"
     ]
    }
   ],
   "source": [
    "df.info()"
   ]
  },
  {
   "cell_type": "code",
   "execution_count": 15,
   "metadata": {},
   "outputs": [],
   "source": [
    "y1,X1=dmatrices('''status ~ category_code  + CA + NY + MA + TX + WA + founded_month \n",
    "                + first_funding_dayinop + ave_inf_y \n",
    "                + sa_funded_daysop + sa_raised_amount_usd_adj\n",
    "                + ag_funded_daysop + ag_raised_amount_usd_adj\n",
    "                + cr_funded_daysop + cr_raised_amount_usd_adj''',data=df,return_type='dataframe')"
   ]
  },
  {
   "cell_type": "code",
   "execution_count": 16,
   "metadata": {},
   "outputs": [],
   "source": [
    "X1=X1.drop(columns='Intercept')"
   ]
  },
  {
   "cell_type": "code",
   "execution_count": 256,
   "metadata": {},
   "outputs": [
    {
     "name": "stdout",
     "output_type": "stream",
     "text": [
      "<class 'pandas.core.frame.DataFrame'>\n",
      "Int64Index: 5482 entries, 0 to 5807\n",
      "Data columns (total 63 columns):\n",
      "category_code[T.analytics]                 5482 non-null float64\n",
      "category_code[T.automotive]                5482 non-null float64\n",
      "category_code[T.biotech]                   5482 non-null float64\n",
      "category_code[T.cleantech]                 5482 non-null float64\n",
      "category_code[T.consulting]                5482 non-null float64\n",
      "category_code[T.design]                    5482 non-null float64\n",
      "category_code[T.ecommerce]                 5482 non-null float64\n",
      "category_code[T.education]                 5482 non-null float64\n",
      "category_code[T.enterprise]                5482 non-null float64\n",
      "category_code[T.fashion]                   5482 non-null float64\n",
      "category_code[T.finance]                   5482 non-null float64\n",
      "category_code[T.games_video]               5482 non-null float64\n",
      "category_code[T.hardware]                  5482 non-null float64\n",
      "category_code[T.health]                    5482 non-null float64\n",
      "category_code[T.hospitality]               5482 non-null float64\n",
      "category_code[T.legal]                     5482 non-null float64\n",
      "category_code[T.local]                     5482 non-null float64\n",
      "category_code[T.manufacturing]             5482 non-null float64\n",
      "category_code[T.medical]                   5482 non-null float64\n",
      "category_code[T.messaging]                 5482 non-null float64\n",
      "category_code[T.mobile]                    5482 non-null float64\n",
      "category_code[T.music]                     5482 non-null float64\n",
      "category_code[T.nanotech]                  5482 non-null float64\n",
      "category_code[T.network_hosting]           5482 non-null float64\n",
      "category_code[T.news]                      5482 non-null float64\n",
      "category_code[T.nonprofit]                 5482 non-null float64\n",
      "category_code[T.other]                     5482 non-null float64\n",
      "category_code[T.pets]                      5482 non-null float64\n",
      "category_code[T.photo_video]               5482 non-null float64\n",
      "category_code[T.public_relations]          5482 non-null float64\n",
      "category_code[T.real_estate]               5482 non-null float64\n",
      "category_code[T.search]                    5482 non-null float64\n",
      "category_code[T.security]                  5482 non-null float64\n",
      "category_code[T.semiconductor]             5482 non-null float64\n",
      "category_code[T.social]                    5482 non-null float64\n",
      "category_code[T.software]                  5482 non-null float64\n",
      "category_code[T.sports]                    5482 non-null float64\n",
      "category_code[T.transportation]            5482 non-null float64\n",
      "category_code[T.travel]                    5482 non-null float64\n",
      "category_code[T.web]                       5482 non-null float64\n",
      "ag_funded_daysop[T.2008-03-01 00:00:00]    5482 non-null float64\n",
      "ag_funded_daysop[T.2011-01-06 00:00:00]    5482 non-null float64\n",
      "ag_funded_daysop[T.2012-01-01 00:00:00]    5482 non-null float64\n",
      "ag_funded_daysop[T.2012-07-14 00:00:00]    5482 non-null float64\n",
      "ag_funded_daysop[T.2012-08-12 00:00:00]    5482 non-null float64\n",
      "ag_funded_daysop[T.2013-04-15 00:00:00]    5482 non-null float64\n",
      "ag_funded_daysop[T.2013-06-08 00:00:00]    5482 non-null float64\n",
      "ag_funded_daysop[T.2013-06-09 00:00:00]    5482 non-null float64\n",
      "ag_funded_daysop[T.2013-08-08 00:00:00]    5482 non-null float64\n",
      "ag_funded_daysop[T.2013-09-05 00:00:00]    5482 non-null float64\n",
      "CA                                         5482 non-null float64\n",
      "NY                                         5482 non-null float64\n",
      "MA                                         5482 non-null float64\n",
      "TX                                         5482 non-null float64\n",
      "WA                                         5482 non-null float64\n",
      "founded_month                              5482 non-null float64\n",
      "first_funding_dayinop                      5482 non-null float64\n",
      "ave_inf_y                                  5482 non-null float64\n",
      "sa_funded_daysop                           5482 non-null float64\n",
      "sa_raised_amount_usd_adj                   5482 non-null float64\n",
      "ag_raised_amount_usd_adj                   5482 non-null float64\n",
      "cr_funded_daysop                           5482 non-null float64\n",
      "cr_raised_amount_usd_adj                   5482 non-null float64\n",
      "dtypes: float64(63)\n",
      "memory usage: 2.7 MB\n"
     ]
    }
   ],
   "source": [
    "X1.info()\n"
   ]
  },
  {
   "cell_type": "code",
   "execution_count": 18,
   "metadata": {},
   "outputs": [
    {
     "data": {
      "text/plain": [
       "0.123859905144108"
      ]
     },
     "execution_count": 18,
     "metadata": {},
     "output_type": "execute_result"
    }
   ],
   "source": [
    "y1['status[acquired]'].sum()/len(y1)"
   ]
  },
  {
   "cell_type": "code",
   "execution_count": 19,
   "metadata": {},
   "outputs": [],
   "source": [
    "y1_ac=y1['status[acquired]']"
   ]
  },
  {
   "cell_type": "code",
   "execution_count": 138,
   "metadata": {},
   "outputs": [
    {
     "name": "stdout",
     "output_type": "stream",
     "text": [
      "0.7440885539331136 0.76279016817298\n"
     ]
    }
   ],
   "source": [
    "##logistc regression and auc estimates\n",
    "\n",
    "X1_train,X1_test, y1_ac_train, y1_ac_test = train_test_split(X1,y1_ac,test_size=0.2, random_state=42)\n",
    "\n",
    "tuned_parameters = {'C': [0.001, 0.01, 0.1, 1, 10, 100, 1000],'penalty':['l1','l2'] }\n",
    "\n",
    "log_ac = GridSearchCV(LogisticRegression(), tuned_parameters, scoring='roc_auc', cv=3, refit=True)\n",
    "    \n",
    "log_ac.fit(X1_train,y1_ac_train)\n",
    "y_score=log_ac.predict_proba(X1_test)[:,1]\n",
    "\n",
    "fpr1_ac, tpr1_ac,_ = roc_curve(y1_ac_test, y_score)\n",
    "roc_auc1_ac = auc(fpr1_ac, tpr1_ac)\n",
    "\n",
    "y_score1=log_ac.predict_proba(X1_train)[:,1]\n",
    "\n",
    "fpr1_ac_train, tpr1_ac_train,_ = roc_curve(y1_ac_train, y_score1)\n",
    "roc_auc1_ac_train = auc(fpr1_ac_train, tpr1_ac_train)\n",
    "\n",
    "print(roc_auc1_ac,roc_auc1_ac_train)"
   ]
  },
  {
   "cell_type": "code",
   "execution_count": 22,
   "metadata": {},
   "outputs": [
    {
     "data": {
      "text/plain": [
       "0.02553812477198103"
      ]
     },
     "execution_count": 22,
     "metadata": {},
     "output_type": "execute_result"
    }
   ],
   "source": [
    "y1['status[ipo]'].sum()/len(y1)"
   ]
  },
  {
   "cell_type": "code",
   "execution_count": 23,
   "metadata": {},
   "outputs": [],
   "source": [
    "y1_ipo=y1['status[ipo]']"
   ]
  },
  {
   "cell_type": "code",
   "execution_count": 89,
   "metadata": {},
   "outputs": [
    {
     "name": "stdout",
     "output_type": "stream",
     "text": [
      "0.8842710142990778 0.8573413627093711\n"
     ]
    }
   ],
   "source": [
    "## logistic regression or ipo category\n",
    "X1_train,X1_test, y1_ipo_train, y1_ipo_test = train_test_split(X1,y1_ipo,test_size=0.2, random_state=42)\n",
    "\n",
    "\n",
    "tuned_parameters = {'C': [0.001, 0.01, 0.1, 1, 10, 100, 1000],'penalty':['l1','l2'] }\n",
    "\n",
    "log_ipo = GridSearchCV(LogisticRegression(), tuned_parameters, scoring='roc_auc', cv=3, refit=True)\n",
    "\n",
    "log_ipo.fit(X1_train,y1_ipo_train)\n",
    "y_score=log_ipo.predict_proba(X1_test)[:,1]\n",
    "\n",
    "fpr1_ipo, tpr1_ipo,_ = roc_curve(y1_ipo_test, y_score)\n",
    "roc_auc1_ipo = auc(fpr1_ipo, tpr1_ipo)\n",
    "\n",
    "y_score=log_ipo.predict_proba(X1_train)[:,1]\n",
    "\n",
    "fpr1_ipo_train, tpr1_ipo_train,_ = roc_curve(y1_ipo_train, y_score)\n",
    "roc_auc1_ipo_train = auc(fpr1_ipo_train, tpr1_ipo_train)\n",
    "\n",
    "print(roc_auc1_ipo,roc_auc1_ipo_train)"
   ]
  },
  {
   "cell_type": "code",
   "execution_count": 91,
   "metadata": {},
   "outputs": [
    {
     "name": "stdout",
     "output_type": "stream",
     "text": [
      "0.7429816297691945 0.7624481634153987\n"
     ]
    }
   ],
   "source": [
    "## logistic regression with normallized variables and calculating AUC\n",
    "\n",
    "# log_ac_p=pipeline.Pipeline([\n",
    "#     ('standardscaler',preprocessing.StandardScaler(copy=True, with_mean=True, with_std=True)),\n",
    "#     ( 'log', LogisticRegression())\n",
    "# ])\n",
    "\n",
    "norm=preprocessing.StandardScaler(copy=True, with_mean=True, with_std=True)\n",
    "\n",
    "X1_train_n=norm.fit_transform(X1_train)\n",
    "\n",
    "X1_test_n = norm.transform(X1_test)\n",
    "\n",
    "tuned_parameters = {'C': [0.001, 0.01, 0.1, 1, 10, 100, 1000],'penalty':['l1','l2'] }\n",
    "\n",
    "\n",
    "log_ac_n=GridSearchCV(LogisticRegression(), tuned_parameters, scoring='roc_auc', cv=3, refit=True)\n",
    "\n",
    "log_ac_n.fit(X1_train_n,y1_ac_train)\n",
    "y_score=log_ac_n.predict_proba(X1_test_n)[:,1]\n",
    "\n",
    "fpr1_ac_n, tpr1_ac_n,_ = roc_curve(y1_ac_test, y_score)\n",
    "roc_auc1_ac_n = auc(fpr1_ac, tpr1_ac)\n",
    "\n",
    "y_score=log_ac_n.predict_proba(X1_train_n)[:,1]\n",
    "\n",
    "fpr1_ac_n_train, tpr1_ac_n_train,_ = roc_curve(y1_ac_train, y_score)\n",
    "roc_auc1_ac_n_train = auc(fpr1_ac_train, tpr1_ac_train)\n",
    "\n",
    "print(roc_auc1_ac, roc_auc1_ac_n_train )"
   ]
  },
  {
   "cell_type": "code",
   "execution_count": 90,
   "metadata": {},
   "outputs": [
    {
     "name": "stdout",
     "output_type": "stream",
     "text": [
      "0.8998730455699586 0.8717800307579151\n"
     ]
    }
   ],
   "source": [
    "## logistic regression with normallized variables and calculating AUC\n",
    "\n",
    "log_ipo_n=GridSearchCV(LogisticRegression(), tuned_parameters, scoring='roc_auc', cv=3, refit=True)\n",
    "\n",
    "log_ipo_n.fit(X1_train_n,y1_ipo_train)\n",
    "y_score=log_ipo_n.predict_proba(X1_test_n)[:,1]\n",
    "\n",
    "fpr1_ipo_n, tpr1_ipo_n,_ = roc_curve(y1_ipo_test, y_score)\n",
    "roc_auc1_ipo_n = auc(fpr1_ipo_n, tpr1_ipo_n)\n",
    "\n",
    "y_score=log_ipo_n.predict_proba(X1_train_n)[:,1]\n",
    "\n",
    "fpr1_ipo_n_train, tpr1_ipo_n_train,_ = roc_curve(y1_ipo_train, y_score)\n",
    "roc_auc1_ipo_n_train = auc(fpr1_ipo_n_train, tpr1_ipo_n_train)\n",
    "\n",
    "print(roc_auc1_ipo_n, roc_auc1_ipo_n_train)"
   ]
  },
  {
   "cell_type": "code",
   "execution_count": 93,
   "metadata": {},
   "outputs": [],
   "source": [
    "# random forest model for AC\n",
    "tuned_parameters= { \n",
    "    'n_estimators': [200, 300],\n",
    "    'max_features': ['auto', 'sqrt', 'log2'],\n",
    "    'max_depth' : [1,2,4,5],\n",
    "    'criterion' :['gini', 'entropy']\n",
    "}\n",
    "\n",
    "randomforest_ac =  GridSearchCV(RandomForestClassifier(), tuned_parameters, scoring='roc_auc', cv=3, refit=True)\n",
    "randomforest_ac.fit(X1_train,y1_ac_train)\n",
    "y_score=randomforest_ac.predict_proba(X1_test)[:,1]\n",
    "\n",
    "fpr2_ac, tpr2_ac,_ = roc_curve(y1_ac_test, y_score)\n",
    "roc_auc2_ac = auc(fpr2_ac, tpr2_ac)\n",
    "\n",
    "\n",
    "y_score=randomforest_ac.predict_proba(X1_train)[:,1]\n",
    "\n",
    "fpr2_ac_train, tpr2_ac_train,_ = roc_curve(y1_ac_train, y_score)\n",
    "roc_auc2_ac_train = auc(fpr2_ac_train, tpr2_ac_train)\n"
   ]
  },
  {
   "cell_type": "code",
   "execution_count": 94,
   "metadata": {},
   "outputs": [
    {
     "name": "stdout",
     "output_type": "stream",
     "text": [
      "0.697197362223269 0.8110056940457829\n"
     ]
    }
   ],
   "source": [
    "print(roc_auc2_ac, roc_auc2_ac_train)"
   ]
  },
  {
   "cell_type": "code",
   "execution_count": 38,
   "metadata": {},
   "outputs": [
    {
     "data": {
      "text/plain": [
       "(0.8877789656554858, 0.9376514910902343)"
      ]
     },
     "execution_count": 38,
     "metadata": {},
     "output_type": "execute_result"
    }
   ],
   "source": [
    "# random forest model for IPO\n",
    "\n",
    "tuned_parameters= { \n",
    "    'n_estimators': [200, 300],\n",
    "    'max_features': ['auto', 'sqrt', 'log2'],\n",
    "    'max_depth' : [1,2,4,5],\n",
    "    'criterion' :['gini', 'entropy']\n",
    "}\n",
    "randomforest_ipo = GridSearchCV(RandomForestClassifier(), tuned_parameters, scoring='roc_auc', cv=3, refit=True)\n",
    "randomforest_ipo.fit(X1_train,y1_ipo_train)\n",
    "\n",
    "y_score=randomforest_ipo.predict_proba(X1_test)[:,1]\n",
    "fpr2_ipo, tpr2_ipo,_ = roc_curve(y1_ipo_test, y_score)\n",
    "roc_auc2_ipo = auc(fpr2_ipo, tpr2_ipo)\n",
    "\n",
    "y_score_train=randomforest_ipo.predict_proba(X1_train)[:,1]\n",
    "fpr2_ipo_train, tpr2_ipo_train,_ = roc_curve(y1_ipo_train, y_score_train)\n",
    "roc_auc2_ipo_train = auc(fpr2_ipo_train, tpr2_ipo_train)\n",
    "    \n",
    "\n",
    "roc_auc2_ipo, roc_auc2_ipo_train "
   ]
  },
  {
   "cell_type": "code",
   "execution_count": 40,
   "metadata": {},
   "outputs": [],
   "source": [
    "# Gradient Boosting Classifier on ipo\n",
    "learning_rates = np.logspace(-4, -0.5, 30)\n",
    "max_features= range(1,5)\n",
    "tuned_parameters = [{'learning_rate': learning_rates, 'max_features':max_features,'n_estimators':[300] }]\n",
    "n_folds = 3\n",
    "\n",
    "\n",
    "GBC_ipo=GridSearchCV(GradientBoostingClassifier(), tuned_parameters, scoring='roc_auc', cv=n_folds, refit=True)\n",
    "\n",
    "\n",
    "GBC_ipo.fit(X1_train,y1_ipo_train)\n",
    "\n",
    "y_score=GBC_ipo.predict_proba(X1_test)[:,1]\n",
    "fpr3_ipo, tpr3_ipo,_ = roc_curve(y1_ipo_test, y_score)\n",
    "roc_auc3_ipo = auc(fpr3_ipo, tpr3_ipo)\n",
    "\n",
    "y_score_train=GBC_ipo.predict_proba(X1_train)[:,1]\n",
    "fpr3_ipo_train, tpr3_ipo_train,_ = roc_curve(y1_ipo_train, y_score_train)\n",
    "roc_auc3_ipo_train = auc(fpr3_ipo_train, tpr3_ipo_train)\n",
    "\n",
    " "
   ]
  },
  {
   "cell_type": "code",
   "execution_count": 41,
   "metadata": {},
   "outputs": [
    {
     "data": {
      "text/plain": [
       "(0.8794768141119871, 0.9312721490421584)"
      ]
     },
     "execution_count": 41,
     "metadata": {},
     "output_type": "execute_result"
    }
   ],
   "source": [
    "roc_auc3_ipo, roc_auc3_ipo_train "
   ]
  },
  {
   "cell_type": "code",
   "execution_count": 42,
   "metadata": {},
   "outputs": [
    {
     "data": {
      "text/plain": [
       "(0.7280185272413252, 0.8770245205026612)"
      ]
     },
     "execution_count": 42,
     "metadata": {},
     "output_type": "execute_result"
    }
   ],
   "source": [
    "# Gradient Boosting Classifier on AC\n",
    "\n",
    "learning_rates = np.logspace(-4, -0.5, 30)\n",
    "max_features= range(1,5)\n",
    "tuned_parameters = [{'learning_rate': learning_rates, 'max_features':max_features,'n_estimators':[300] }]\n",
    "n_folds = 3\n",
    "\n",
    "\n",
    "GBC_ac=GridSearchCV(GradientBoostingClassifier(), tuned_parameters, scoring='roc_auc', cv=n_folds, refit=True)\n",
    "\n",
    "\n",
    "GBC_ac.fit(X1_train,y1_ac_train)\n",
    "\n",
    "y_score=GBC_ac.predict_proba(X1_test)[:,1]\n",
    "fpr3_ac, tpr3_ac,_ = roc_curve(y1_ac_test, y_score)\n",
    "roc_auc3_ac = auc(fpr3_ac, tpr3_ac)\n",
    "\n",
    "y_score_train=GBC_ac.predict_proba(X1_train)[:,1]\n",
    "fpr3_ac_train, tpr3_ac_train,_ = roc_curve(y1_ac_train, y_score_train)\n",
    "roc_auc3_ac_train = auc(fpr3_ac_train, tpr3_ac_train)\n",
    "\n",
    "roc_auc3_ac, roc_auc3_ac_train "
   ]
  },
  {
   "cell_type": "code",
   "execution_count": 65,
   "metadata": {},
   "outputs": [
    {
     "data": {
      "text/plain": [
       "(0.7741547507684085, 0.943657851626492)"
      ]
     },
     "execution_count": 65,
     "metadata": {},
     "output_type": "execute_result"
    }
   ],
   "source": [
    "#Support vector machine on IPO\n",
    "\n",
    "tuned_parameters = [\n",
    "  {'C': [1, 10, 50], 'kernel': ['linear'],'probability':[True]},\n",
    "  {'C': [1, 10, 50], 'gamma': [0.001, 0.0001,0.01], 'kernel': ['rbf'],'probability':[True]},\n",
    " ]\n",
    "\n",
    "\n",
    "SVC1_ipo=GridSearchCV(SVC(), tuned_parameters, scoring='roc_auc', cv=n_folds, refit=True)\n",
    "\n",
    "SVC1_ipo.fit(X1_train_n,y1_ipo_train)\n",
    "\n",
    "y_score=SVC1_ipo.predict_proba(X1_test_n)[:,1]\n",
    "fpr4_ipo, tpr4_ipo,_ = roc_curve(y1_ipo_test, y_score)\n",
    "roc_auc4_ipo = auc(fpr4_ipo, tpr4_ipo)\n",
    "\n",
    "y_score=SVC1_ipo.predict_proba(X1_train_n)[:,1]\n",
    "fpr4_ipo_train, tpr4_ipo_train,_ = roc_curve(y1_ipo_train, y_score)\n",
    "roc_auc4_ipo_train = auc(fpr4_ipo_train, tpr4_ipo_train)\n",
    "\n",
    "roc_auc4_ipo, roc_auc4_ipo_train"
   ]
  },
  {
   "cell_type": "code",
   "execution_count": 72,
   "metadata": {},
   "outputs": [
    {
     "data": {
      "text/plain": [
       "(0.620034542314335, 0.8308062452545648)"
      ]
     },
     "execution_count": 72,
     "metadata": {},
     "output_type": "execute_result"
    }
   ],
   "source": [
    "#Support vector machine on ac\n",
    "\n",
    "tuned_parameters = [\n",
    "  {'C': [1, 10, 50], 'kernel': ['linear'],'probability':[True]},\n",
    "  {'C': [1, 10, 50], 'gamma': [0.001, 0.0001,0.01], 'kernel': ['rbf'],'probability':[True]},\n",
    " ]\n",
    "\n",
    "SVC1_ac=GridSearchCV(SVC(), tuned_parameters, scoring='roc_auc', cv=n_folds, refit=True)\n",
    "\n",
    "SVC1_ac.fit(X1_train_n,y1_ac_train)\n",
    "\n",
    "y_score=SVC1_ac.predict_proba(X1_test_n)[:,1]\n",
    "fpr4_ac, tpr4_ac,_ = roc_curve(y1_ac_test, y_score)\n",
    "roc_auc4_ac = auc(fpr4_ac, tpr4_ac)\n",
    "\n",
    "y_score=SVC1_ac.predict_proba(X1_train_n)[:,1]\n",
    "fpr4_ac_train, tpr4_ac_train,_ = roc_curve(y1_ac_train, y_score)\n",
    "roc_auc4_ac_train = auc(fpr4_ac_train, tpr4_ac_train)\n",
    "\n",
    "roc_auc4_ac, roc_auc4_ac_train"
   ]
  },
  {
   "cell_type": "code",
   "execution_count": 45,
   "metadata": {},
   "outputs": [
    {
     "data": {
      "text/plain": [
       "(0.7862989442736871, 0.7876157600882618)"
      ]
     },
     "execution_count": 45,
     "metadata": {},
     "output_type": "execute_result"
    }
   ],
   "source": [
    "#Naive-Bayes on IPO, it does not have hyperparameters \n",
    "bayes_ipo = naive_bayes.GaussianNB() # The likelihood of the features is assumed to be Gaussian\n",
    "\n",
    "bayes_ipo.fit(X1_train,y1_ipo_train)\n",
    "\n",
    "y_score=bayes_ipo.predict_proba(X1_test)[:,1]\n",
    "fpr6_ipo, tpr6_ipo,_ = roc_curve(y1_ipo_test, y_score)\n",
    "roc_auc6_ipo = auc(fpr6_ipo, tpr6_ipo)\n",
    "\n",
    "y_score=bayes_ipo.predict_proba(X1_train)[:,1]\n",
    "fpr6_ipo_train, tpr6_ipo_train,_ = roc_curve(y1_ipo_train, y_score)\n",
    "roc_auc6_ipo_train = auc(fpr6_ipo_train, tpr6_ipo_train)\n",
    "\n",
    "roc_auc6_ipo, roc_auc6_ipo_train"
   ]
  },
  {
   "cell_type": "code",
   "execution_count": 96,
   "metadata": {},
   "outputs": [],
   "source": [
    "#Naive-Bayes on ac, it does not have hyperparameters \n",
    "bayes_ac = naive_bayes.GaussianNB() # The likelihood of the features is assumed to be Gaussian\n",
    "\n",
    "bayes_ac.fit(X1_train,y1_ac_train)\n",
    "\n",
    "y_score=bayes_ac.predict_proba(X1_test)[:,1]\n",
    "fpr6_ac, tpr6_ac,_ = roc_curve(y1_ac_test, y_score)\n",
    "roc_auc6_ac = auc(fpr6_ac, tpr6_ac)\n",
    "\n",
    "y_score=bayes_ac.predict_proba(X1_train)[:,1]\n",
    "fpr6_ac_train, tpr6_ac_train,_ = roc_curve(y1_ac_train, y_score)\n",
    "roc_auc6_ac_train = auc(fpr6_ac_train, tpr6_ac_train)"
   ]
  },
  {
   "cell_type": "code",
   "execution_count": 47,
   "metadata": {},
   "outputs": [],
   "source": [
    "def cv_Bayes(X1, y1_ipo):\n",
    "    X1_train,X1_test, y1_ipo_train, y1_ipo_test = train_test_split(X1,y1_ipo,test_size=0.2)\n",
    "    \n",
    "    bayes = naive_bayes.GaussianNB() # The likelihood of the features is assumed to be Gaussian\n",
    "   \n",
    "    bayes.fit(X1_train,y1_ipo_train)\n",
    "\n",
    "    y_score=bayes.predict_proba(X1_test)[:,1]\n",
    "    fpr2_ipo, tpr2_ipo,_ = roc_curve(y1_ipo_test, y_score)\n",
    "    roc_auc2_ipo = auc(fpr2_ipo, tpr2_ipo)\n",
    "\n",
    "    y_score_train=bayes.predict_proba(X1_train)[:,1]\n",
    "    fpr2_ipo_train, tpr2_ipo_train,_ = roc_curve(y1_ipo_train, y_score_train)\n",
    "    roc_auc2_ipo_train = auc(fpr2_ipo_train, tpr2_ipo_train)\n",
    "\n",
    "    \n",
    "    return roc_auc2_ipo,roc_auc2_ipo_train,bayes,X1_train,X1_test, y1_ipo_train, y1_ipo_test"
   ]
  },
  {
   "cell_type": "code",
   "execution_count": 48,
   "metadata": {},
   "outputs": [],
   "source": [
    "def Bayes_afew_times(X1, y1_ipo, n=10):\n",
    "    info= (pd.DataFrame([cv_Bayes(X1, y1_ipo) for j in range(n)],\n",
    "                         columns=['Test auc','Train auc', 'Model', 'X1_train','X1_test','y1_train', 'y1_test']))\n",
    "    \n",
    "#         (pd.DataFrame([mod_SVC(X1, y1_ipo) for j in range(n)],\n",
    "#                          columns=['Test auc','Train auc'])).mean()\n",
    "                         \n",
    "                         \n",
    "    return info"
   ]
  },
  {
   "cell_type": "code",
   "execution_count": 67,
   "metadata": {},
   "outputs": [],
   "source": [
    "info_b_ipo=Bayes_afew_times(X1, y1_ipo,n=10)"
   ]
  },
  {
   "cell_type": "code",
   "execution_count": 50,
   "metadata": {},
   "outputs": [
    {
     "data": {
      "text/plain": [
       "0.7834000452122264"
      ]
     },
     "execution_count": 50,
     "metadata": {},
     "output_type": "execute_result"
    }
   ],
   "source": [
    "np.mean(info_b_ipo['Train auc'])"
   ]
  },
  {
   "cell_type": "code",
   "execution_count": 51,
   "metadata": {},
   "outputs": [
    {
     "data": {
      "text/plain": [
       "0.786085998050429"
      ]
     },
     "execution_count": 51,
     "metadata": {},
     "output_type": "execute_result"
    }
   ],
   "source": [
    "np.mean(info_b_ipo['Test auc'])"
   ]
  },
  {
   "cell_type": "code",
   "execution_count": 68,
   "metadata": {},
   "outputs": [],
   "source": [
    "info_b_ac=Bayes_afew_times(X1, y1_ac,n=10)"
   ]
  },
  {
   "cell_type": "code",
   "execution_count": 69,
   "metadata": {},
   "outputs": [
    {
     "data": {
      "text/html": [
       "<div>\n",
       "<style scoped>\n",
       "    .dataframe tbody tr th:only-of-type {\n",
       "        vertical-align: middle;\n",
       "    }\n",
       "\n",
       "    .dataframe tbody tr th {\n",
       "        vertical-align: top;\n",
       "    }\n",
       "\n",
       "    .dataframe thead th {\n",
       "        text-align: right;\n",
       "    }\n",
       "</style>\n",
       "<table border=\"1\" class=\"dataframe\">\n",
       "  <thead>\n",
       "    <tr style=\"text-align: right;\">\n",
       "      <th></th>\n",
       "      <th>Test auc</th>\n",
       "      <th>Train auc</th>\n",
       "      <th>Model</th>\n",
       "      <th>X1_train</th>\n",
       "      <th>X1_test</th>\n",
       "      <th>y1_train</th>\n",
       "      <th>y1_test</th>\n",
       "    </tr>\n",
       "  </thead>\n",
       "  <tbody>\n",
       "    <tr>\n",
       "      <th>0</th>\n",
       "      <td>0.550227</td>\n",
       "      <td>0.538847</td>\n",
       "      <td>GaussianNB(priors=None)</td>\n",
       "      <td>category_code[T.analytics]  category_cod...</td>\n",
       "      <td>category_code[T.analytics]  category_cod...</td>\n",
       "      <td>4856    0.0\n",
       "3868    0.0\n",
       "962     0.0\n",
       "1342    0....</td>\n",
       "      <td>5760    0.0\n",
       "5456    0.0\n",
       "3869    0.0\n",
       "3161    0....</td>\n",
       "    </tr>\n",
       "    <tr>\n",
       "      <th>1</th>\n",
       "      <td>0.554995</td>\n",
       "      <td>0.558803</td>\n",
       "      <td>GaussianNB(priors=None)</td>\n",
       "      <td>category_code[T.analytics]  category_cod...</td>\n",
       "      <td>category_code[T.analytics]  category_cod...</td>\n",
       "      <td>3108    0.0\n",
       "4024    0.0\n",
       "4690    0.0\n",
       "87      0....</td>\n",
       "      <td>4146    0.0\n",
       "4868    0.0\n",
       "1256    0.0\n",
       "2298    1....</td>\n",
       "    </tr>\n",
       "    <tr>\n",
       "      <th>2</th>\n",
       "      <td>0.558153</td>\n",
       "      <td>0.554349</td>\n",
       "      <td>GaussianNB(priors=None)</td>\n",
       "      <td>category_code[T.analytics]  category_cod...</td>\n",
       "      <td>category_code[T.analytics]  category_cod...</td>\n",
       "      <td>2100    0.0\n",
       "4672    0.0\n",
       "5092    0.0\n",
       "4294    1....</td>\n",
       "      <td>672     0.0\n",
       "1235    0.0\n",
       "2372    1.0\n",
       "402     0....</td>\n",
       "    </tr>\n",
       "    <tr>\n",
       "      <th>3</th>\n",
       "      <td>0.542461</td>\n",
       "      <td>0.563421</td>\n",
       "      <td>GaussianNB(priors=None)</td>\n",
       "      <td>category_code[T.analytics]  category_cod...</td>\n",
       "      <td>category_code[T.analytics]  category_cod...</td>\n",
       "      <td>5722    0.0\n",
       "1808    1.0\n",
       "3584    0.0\n",
       "4224    0....</td>\n",
       "      <td>4357    0.0\n",
       "2046    1.0\n",
       "3003    0.0\n",
       "564     0....</td>\n",
       "    </tr>\n",
       "    <tr>\n",
       "      <th>4</th>\n",
       "      <td>0.557191</td>\n",
       "      <td>0.559147</td>\n",
       "      <td>GaussianNB(priors=None)</td>\n",
       "      <td>category_code[T.analytics]  category_cod...</td>\n",
       "      <td>category_code[T.analytics]  category_cod...</td>\n",
       "      <td>4248    0.0\n",
       "5075    0.0\n",
       "5565    0.0\n",
       "4165    1....</td>\n",
       "      <td>4780    0.0\n",
       "578     0.0\n",
       "3528    0.0\n",
       "992     0....</td>\n",
       "    </tr>\n",
       "    <tr>\n",
       "      <th>5</th>\n",
       "      <td>0.490330</td>\n",
       "      <td>0.566598</td>\n",
       "      <td>GaussianNB(priors=None)</td>\n",
       "      <td>category_code[T.analytics]  category_cod...</td>\n",
       "      <td>category_code[T.analytics]  category_cod...</td>\n",
       "      <td>2701    1.0\n",
       "4813    0.0\n",
       "3025    0.0\n",
       "3149    0....</td>\n",
       "      <td>5535    0.0\n",
       "2248    0.0\n",
       "3922    0.0\n",
       "915     0....</td>\n",
       "    </tr>\n",
       "    <tr>\n",
       "      <th>6</th>\n",
       "      <td>0.533077</td>\n",
       "      <td>0.561490</td>\n",
       "      <td>GaussianNB(priors=None)</td>\n",
       "      <td>category_code[T.analytics]  category_cod...</td>\n",
       "      <td>category_code[T.analytics]  category_cod...</td>\n",
       "      <td>2184    0.0\n",
       "3470    0.0\n",
       "2834    0.0\n",
       "924     0....</td>\n",
       "      <td>4150    0.0\n",
       "5524    1.0\n",
       "5565    0.0\n",
       "230     0....</td>\n",
       "    </tr>\n",
       "    <tr>\n",
       "      <th>7</th>\n",
       "      <td>0.549344</td>\n",
       "      <td>0.556901</td>\n",
       "      <td>GaussianNB(priors=None)</td>\n",
       "      <td>category_code[T.analytics]  category_cod...</td>\n",
       "      <td>category_code[T.analytics]  category_cod...</td>\n",
       "      <td>2660    0.0\n",
       "818     0.0\n",
       "3067    1.0\n",
       "5382    0....</td>\n",
       "      <td>2960    0.0\n",
       "2301    0.0\n",
       "1390    0.0\n",
       "2459    0....</td>\n",
       "    </tr>\n",
       "    <tr>\n",
       "      <th>8</th>\n",
       "      <td>0.541190</td>\n",
       "      <td>0.551175</td>\n",
       "      <td>GaussianNB(priors=None)</td>\n",
       "      <td>category_code[T.analytics]  category_cod...</td>\n",
       "      <td>category_code[T.analytics]  category_cod...</td>\n",
       "      <td>1491    0.0\n",
       "2229    1.0\n",
       "3932    0.0\n",
       "2035    0....</td>\n",
       "      <td>3030    0.0\n",
       "1117    1.0\n",
       "631     0.0\n",
       "4466    0....</td>\n",
       "    </tr>\n",
       "    <tr>\n",
       "      <th>9</th>\n",
       "      <td>0.495439</td>\n",
       "      <td>0.540557</td>\n",
       "      <td>GaussianNB(priors=None)</td>\n",
       "      <td>category_code[T.analytics]  category_cod...</td>\n",
       "      <td>category_code[T.analytics]  category_cod...</td>\n",
       "      <td>1464    0.0\n",
       "569     0.0\n",
       "2028    0.0\n",
       "2069    0....</td>\n",
       "      <td>1925    0.0\n",
       "3252    0.0\n",
       "3943    0.0\n",
       "1314    0....</td>\n",
       "    </tr>\n",
       "  </tbody>\n",
       "</table>\n",
       "</div>"
      ],
      "text/plain": [
       "   Test auc  Train auc                    Model  \\\n",
       "0  0.550227   0.538847  GaussianNB(priors=None)   \n",
       "1  0.554995   0.558803  GaussianNB(priors=None)   \n",
       "2  0.558153   0.554349  GaussianNB(priors=None)   \n",
       "3  0.542461   0.563421  GaussianNB(priors=None)   \n",
       "4  0.557191   0.559147  GaussianNB(priors=None)   \n",
       "5  0.490330   0.566598  GaussianNB(priors=None)   \n",
       "6  0.533077   0.561490  GaussianNB(priors=None)   \n",
       "7  0.549344   0.556901  GaussianNB(priors=None)   \n",
       "8  0.541190   0.551175  GaussianNB(priors=None)   \n",
       "9  0.495439   0.540557  GaussianNB(priors=None)   \n",
       "\n",
       "                                            X1_train  \\\n",
       "0        category_code[T.analytics]  category_cod...   \n",
       "1        category_code[T.analytics]  category_cod...   \n",
       "2        category_code[T.analytics]  category_cod...   \n",
       "3        category_code[T.analytics]  category_cod...   \n",
       "4        category_code[T.analytics]  category_cod...   \n",
       "5        category_code[T.analytics]  category_cod...   \n",
       "6        category_code[T.analytics]  category_cod...   \n",
       "7        category_code[T.analytics]  category_cod...   \n",
       "8        category_code[T.analytics]  category_cod...   \n",
       "9        category_code[T.analytics]  category_cod...   \n",
       "\n",
       "                                             X1_test  \\\n",
       "0        category_code[T.analytics]  category_cod...   \n",
       "1        category_code[T.analytics]  category_cod...   \n",
       "2        category_code[T.analytics]  category_cod...   \n",
       "3        category_code[T.analytics]  category_cod...   \n",
       "4        category_code[T.analytics]  category_cod...   \n",
       "5        category_code[T.analytics]  category_cod...   \n",
       "6        category_code[T.analytics]  category_cod...   \n",
       "7        category_code[T.analytics]  category_cod...   \n",
       "8        category_code[T.analytics]  category_cod...   \n",
       "9        category_code[T.analytics]  category_cod...   \n",
       "\n",
       "                                            y1_train  \\\n",
       "0  4856    0.0\n",
       "3868    0.0\n",
       "962     0.0\n",
       "1342    0....   \n",
       "1  3108    0.0\n",
       "4024    0.0\n",
       "4690    0.0\n",
       "87      0....   \n",
       "2  2100    0.0\n",
       "4672    0.0\n",
       "5092    0.0\n",
       "4294    1....   \n",
       "3  5722    0.0\n",
       "1808    1.0\n",
       "3584    0.0\n",
       "4224    0....   \n",
       "4  4248    0.0\n",
       "5075    0.0\n",
       "5565    0.0\n",
       "4165    1....   \n",
       "5  2701    1.0\n",
       "4813    0.0\n",
       "3025    0.0\n",
       "3149    0....   \n",
       "6  2184    0.0\n",
       "3470    0.0\n",
       "2834    0.0\n",
       "924     0....   \n",
       "7  2660    0.0\n",
       "818     0.0\n",
       "3067    1.0\n",
       "5382    0....   \n",
       "8  1491    0.0\n",
       "2229    1.0\n",
       "3932    0.0\n",
       "2035    0....   \n",
       "9  1464    0.0\n",
       "569     0.0\n",
       "2028    0.0\n",
       "2069    0....   \n",
       "\n",
       "                                             y1_test  \n",
       "0  5760    0.0\n",
       "5456    0.0\n",
       "3869    0.0\n",
       "3161    0....  \n",
       "1  4146    0.0\n",
       "4868    0.0\n",
       "1256    0.0\n",
       "2298    1....  \n",
       "2  672     0.0\n",
       "1235    0.0\n",
       "2372    1.0\n",
       "402     0....  \n",
       "3  4357    0.0\n",
       "2046    1.0\n",
       "3003    0.0\n",
       "564     0....  \n",
       "4  4780    0.0\n",
       "578     0.0\n",
       "3528    0.0\n",
       "992     0....  \n",
       "5  5535    0.0\n",
       "2248    0.0\n",
       "3922    0.0\n",
       "915     0....  \n",
       "6  4150    0.0\n",
       "5524    1.0\n",
       "5565    0.0\n",
       "230     0....  \n",
       "7  2960    0.0\n",
       "2301    0.0\n",
       "1390    0.0\n",
       "2459    0....  \n",
       "8  3030    0.0\n",
       "1117    1.0\n",
       "631     0.0\n",
       "4466    0....  \n",
       "9  1925    0.0\n",
       "3252    0.0\n",
       "3943    0.0\n",
       "1314    0....  "
      ]
     },
     "execution_count": 69,
     "metadata": {},
     "output_type": "execute_result"
    }
   ],
   "source": [
    "info_b_ac"
   ]
  },
  {
   "cell_type": "code",
   "execution_count": 54,
   "metadata": {},
   "outputs": [
    {
     "data": {
      "text/plain": [
       "0.5553698406535466"
      ]
     },
     "execution_count": 54,
     "metadata": {},
     "output_type": "execute_result"
    }
   ],
   "source": [
    "np.mean(info_b_ac['Train auc'])"
   ]
  },
  {
   "cell_type": "code",
   "execution_count": 55,
   "metadata": {},
   "outputs": [
    {
     "data": {
      "text/plain": [
       "0.5500524284552709"
      ]
     },
     "execution_count": 55,
     "metadata": {},
     "output_type": "execute_result"
    }
   ],
   "source": [
    "np.mean(info_b_ac['Test auc'])"
   ]
  },
  {
   "cell_type": "code",
   "execution_count": 73,
   "metadata": {},
   "outputs": [
    {
     "data": {
      "image/png": "[encoded data removed]",
      "text/plain": [
       "<Figure size 720x720 with 1 Axes>"
      ]
     },
     "metadata": {},
     "output_type": "display_data"
    }
   ],
   "source": [
    "\n",
    "plt.figure(figsize= [10,10])\n",
    "# Plotting our Baseline..\n",
    "plt.plot([0,1],[0,1])\n",
    "plt.plot(fpr1_ac_n,tpr1_ac_n,label='logr_ac_n')\n",
    "plt.plot(fpr1_ac,tpr1_ac,label='logr_ac')\n",
    "plt.plot(fpr3_ac,tpr3_ac,label='RandomForest')\n",
    "plt.plot(fpr3_ac,tpr3_ac,label='GradiantBoosting')\n",
    "plt.plot(fpr4_ac,tpr4_ac,label='SVM rbf')\n",
    "plt.plot(fpr6_ac,tpr6_ac,label='N Bayes')\n",
    "plt.xlabel('FPR', size = 15)\n",
    "plt.ylabel('TPR', size = 15,rotation = 0,labelpad = 35)\n",
    "plt.legend(loc='best',prop={'size': 12})\n",
    "plt.title(\"ROC curves for evaluated models for Acquisitions\", size = 25)\n",
    "# plt.xlabel('Coefficients', size = 15, labelpad = 15)\n",
    "# plt.ylabel('Variables        ', size = 20, rotation = 0, labelpad = 35)\n",
    "plt.xticks(size=14)\n",
    "plt.yticks(size=14)\n",
    "ax = plt.gca()\n",
    "ax.yaxis.set_label_coords(-0.06,0.97)\n",
    "ttl = ax.title\n",
    "ttl.set_position([.5, 1.05]);\n"
   ]
  },
  {
   "cell_type": "code",
   "execution_count": 74,
   "metadata": {},
   "outputs": [
    {
     "data": {
      "image/png": "[encoded data removed]",
      "text/plain": [
       "<Figure size 720x720 with 1 Axes>"
      ]
     },
     "metadata": {},
     "output_type": "display_data"
    }
   ],
   "source": [
    "\n",
    "plt.figure(figsize= [10,10])\n",
    "# Plotting our Baseline..\n",
    "plt.plot([0,1],[0,1])\n",
    "plt.plot(fpr1_ipo_n,tpr1_ipo_n,label='logr_ac_n')\n",
    "plt.plot(fpr1_ipo,tpr1_ipo,label='logr_ac')\n",
    "plt.plot(fpr3_ipo,tpr3_ipo,label='RandomForest')\n",
    "plt.plot(fpr3_ipo,tpr3_ipo,label='GradiantBoosting')\n",
    "plt.plot(fpr4_ipo,tpr4_ipo,label='SVM')\n",
    "plt.plot(fpr6_ipo,tpr6_ipo,label='N Bayes')\n",
    "plt.xlabel('FPR', size = 15)\n",
    "plt.ylabel('TPR', size = 15,rotation = 0,labelpad = 35)\n",
    "plt.legend(loc='best',prop={'size': 12})\n",
    "plt.title(\"ROC curves for evaluated models for IPOs\", size = 25)\n",
    "# plt.xlabel('Coefficients', size = 15, labelpad = 15)\n",
    "# plt.ylabel('Variables        ', size = 20, rotation = 0, labelpad = 35)\n",
    "plt.xticks(size=14)\n",
    "plt.yticks(size=14)\n",
    "ax = plt.gca()\n",
    "ax.yaxis.set_label_coords(-0.06,0.97)\n",
    "ttl = ax.title\n",
    "ttl.set_position([.5, 1.05]);"
   ]
  },
  {
   "cell_type": "code",
   "execution_count": 75,
   "metadata": {},
   "outputs": [],
   "source": [
    "Name=['logr', 'logr_n','RandomForest', 'GradiantBoosting','SVM','N Bayes']"
   ]
  },
  {
   "cell_type": "code",
   "execution_count": 117,
   "metadata": {},
   "outputs": [],
   "source": [
    "Model_ac=[log_ac,log_ac_n,randomforest_ac,GBC_ac,SVC1_ac,bayes_ac]"
   ]
  },
  {
   "cell_type": "code",
   "execution_count": 139,
   "metadata": {},
   "outputs": [],
   "source": [
    "Model_ipo=[log_ipo,log_ipo_n,randomforest_ipo,GBC_ipo,SVC1_ipo,bayes_ipo]"
   ]
  },
  {
   "cell_type": "code",
   "execution_count": 140,
   "metadata": {},
   "outputs": [],
   "source": [
    "auc_test_ac=[roc_auc1_ac,roc_auc1_ac_n, roc_auc2_ac,roc_auc3_ac,roc_auc4_ac, roc_auc6_ac]"
   ]
  },
  {
   "cell_type": "code",
   "execution_count": 141,
   "metadata": {},
   "outputs": [],
   "source": [
    "auc_train_ac=[roc_auc1_ac_train, roc_auc1_ac_n_train, roc_auc2_ac_train,roc_auc3_ac_train,roc_auc4_ac_train, roc_auc6_ac_train]"
   ]
  },
  {
   "cell_type": "code",
   "execution_count": 142,
   "metadata": {},
   "outputs": [],
   "source": [
    "auc_test_ipo=[roc_auc1_ipo,roc_auc1_ipo_n, roc_auc2_ipo,roc_auc3_ipo,roc_auc4_ipo, roc_auc6_ipo]"
   ]
  },
  {
   "cell_type": "code",
   "execution_count": 143,
   "metadata": {},
   "outputs": [],
   "source": [
    "auc_train_ipo=[roc_auc1_ipo_train,roc_auc1_ipo_n_train, roc_auc2_ipo_train,roc_auc3_ipo_train,roc_auc4_ipo_train, roc_auc6_ipo_train]"
   ]
  },
  {
   "cell_type": "code",
   "execution_count": 144,
   "metadata": {},
   "outputs": [],
   "source": [
    "fpr_ipo =[fpr1_ipo,fpr1_ipo_n,fpr2_ipo,fpr3_ipo,fpr4_ipo,fpr6_ipo]"
   ]
  },
  {
   "cell_type": "code",
   "execution_count": 145,
   "metadata": {},
   "outputs": [],
   "source": [
    "fpr_ac =[fpr1_ac,fpr1_ac_n,fpr2_ac,fpr3_ac,fpr4_ac,fpr6_ac]"
   ]
  },
  {
   "cell_type": "code",
   "execution_count": 146,
   "metadata": {},
   "outputs": [],
   "source": [
    "tpr_ac =[tpr1_ac,tpr1_ac_n,tpr2_ac,tpr3_ac,tpr4_ac,tpr6_ac]"
   ]
  },
  {
   "cell_type": "code",
   "execution_count": 147,
   "metadata": {},
   "outputs": [],
   "source": [
    "tpr_ipo =[tpr1_ipo,tpr1_ipo_n,tpr2_ipo,tpr3_ipo,tpr4_ipo,tpr6_ipo]"
   ]
  },
  {
   "cell_type": "code",
   "execution_count": 148,
   "metadata": {},
   "outputs": [],
   "source": [
    "fpr_ipo_train =[fpr1_ipo_train,fpr1_ipo_n_train,fpr2_ipo_train,fpr3_ipo_train,fpr4_ipo_train,fpr6_ipo_train]"
   ]
  },
  {
   "cell_type": "code",
   "execution_count": 149,
   "metadata": {},
   "outputs": [],
   "source": [
    "fpr_ac_train =[fpr1_ac_train,fpr1_ac_n_train,fpr2_ac_train,fpr3_ac_train,fpr4_ac_train,fpr6_ac_train]"
   ]
  },
  {
   "cell_type": "code",
   "execution_count": 150,
   "metadata": {},
   "outputs": [],
   "source": [
    "tpr_ipo_train =[tpr1_ipo_train,tpr1_ipo_n_train,tpr2_ipo_train,tpr3_ipo_train,tpr4_ipo_train,tpr6_ipo_train]"
   ]
  },
  {
   "cell_type": "code",
   "execution_count": 151,
   "metadata": {},
   "outputs": [],
   "source": [
    "tpr_ac_train =[tpr1_ac_train,tpr1_ac_n_train,tpr2_ac_train,tpr3_ac_train,tpr4_ac_train,tpr6_ac_train]"
   ]
  },
  {
   "cell_type": "code",
   "execution_count": 176,
   "metadata": {},
   "outputs": [],
   "source": [
    "Model_data_ac=pd.DataFrame({'name':Name, 'model':Model_ac,'auc_test_ac':auc_test_ac,\n",
    "                            'auc_train_ac':auc_train_ac })"
   ]
  },
  {
   "cell_type": "code",
   "execution_count": 177,
   "metadata": {},
   "outputs": [],
   "source": [
    "Model_data_ipo=pd.DataFrame({'name':Name, 'model':Model_ipo,'auc_test_ipo':auc_test_ipo,\n",
    "                            'auc_train_ipo':auc_train_ipo})"
   ]
  },
  {
   "cell_type": "code",
   "execution_count": 178,
   "metadata": {},
   "outputs": [
    {
     "data": {
      "text/html": [
       "<div>\n",
       "<style scoped>\n",
       "    .dataframe tbody tr th:only-of-type {\n",
       "        vertical-align: middle;\n",
       "    }\n",
       "\n",
       "    .dataframe tbody tr th {\n",
       "        vertical-align: top;\n",
       "    }\n",
       "\n",
       "    .dataframe thead th {\n",
       "        text-align: right;\n",
       "    }\n",
       "</style>\n",
       "<table border=\"1\" class=\"dataframe\">\n",
       "  <thead>\n",
       "    <tr style=\"text-align: right;\">\n",
       "      <th></th>\n",
       "      <th>name</th>\n",
       "      <th>model</th>\n",
       "      <th>auc_test_ac</th>\n",
       "      <th>auc_train_ac</th>\n",
       "    </tr>\n",
       "  </thead>\n",
       "  <tbody>\n",
       "    <tr>\n",
       "      <th>0</th>\n",
       "      <td>logr</td>\n",
       "      <td>GridSearchCV(cv=3, error_score='raise',\\n     ...</td>\n",
       "      <td>0.744089</td>\n",
       "      <td>0.762790</td>\n",
       "    </tr>\n",
       "    <tr>\n",
       "      <th>1</th>\n",
       "      <td>logr_n</td>\n",
       "      <td>GridSearchCV(cv=3, error_score='raise',\\n     ...</td>\n",
       "      <td>0.742982</td>\n",
       "      <td>0.762448</td>\n",
       "    </tr>\n",
       "    <tr>\n",
       "      <th>2</th>\n",
       "      <td>RandomForest</td>\n",
       "      <td>GridSearchCV(cv=3, error_score='raise',\\n     ...</td>\n",
       "      <td>0.697197</td>\n",
       "      <td>0.811006</td>\n",
       "    </tr>\n",
       "    <tr>\n",
       "      <th>3</th>\n",
       "      <td>GradiantBoosting</td>\n",
       "      <td>GridSearchCV(cv=3, error_score='raise',\\n     ...</td>\n",
       "      <td>0.728019</td>\n",
       "      <td>0.877025</td>\n",
       "    </tr>\n",
       "    <tr>\n",
       "      <th>4</th>\n",
       "      <td>SVM</td>\n",
       "      <td>GridSearchCV(cv=3, error_score='raise',\\n     ...</td>\n",
       "      <td>0.620035</td>\n",
       "      <td>0.830806</td>\n",
       "    </tr>\n",
       "    <tr>\n",
       "      <th>5</th>\n",
       "      <td>N Bayes</td>\n",
       "      <td>GaussianNB(priors=None)</td>\n",
       "      <td>0.537125</td>\n",
       "      <td>0.559915</td>\n",
       "    </tr>\n",
       "  </tbody>\n",
       "</table>\n",
       "</div>"
      ],
      "text/plain": [
       "               name                                              model  \\\n",
       "0              logr  GridSearchCV(cv=3, error_score='raise',\\n     ...   \n",
       "1            logr_n  GridSearchCV(cv=3, error_score='raise',\\n     ...   \n",
       "2      RandomForest  GridSearchCV(cv=3, error_score='raise',\\n     ...   \n",
       "3  GradiantBoosting  GridSearchCV(cv=3, error_score='raise',\\n     ...   \n",
       "4               SVM  GridSearchCV(cv=3, error_score='raise',\\n     ...   \n",
       "5           N Bayes                            GaussianNB(priors=None)   \n",
       "\n",
       "   auc_test_ac  auc_train_ac  \n",
       "0     0.744089      0.762790  \n",
       "1     0.742982      0.762448  \n",
       "2     0.697197      0.811006  \n",
       "3     0.728019      0.877025  \n",
       "4     0.620035      0.830806  \n",
       "5     0.537125      0.559915  "
      ]
     },
     "execution_count": 178,
     "metadata": {},
     "output_type": "execute_result"
    }
   ],
   "source": [
    "Model_data_ac"
   ]
  },
  {
   "cell_type": "code",
   "execution_count": 179,
   "metadata": {},
   "outputs": [
    {
     "data": {
      "text/html": [
       "<div>\n",
       "<style scoped>\n",
       "    .dataframe tbody tr th:only-of-type {\n",
       "        vertical-align: middle;\n",
       "    }\n",
       "\n",
       "    .dataframe tbody tr th {\n",
       "        vertical-align: top;\n",
       "    }\n",
       "\n",
       "    .dataframe thead th {\n",
       "        text-align: right;\n",
       "    }\n",
       "</style>\n",
       "<table border=\"1\" class=\"dataframe\">\n",
       "  <thead>\n",
       "    <tr style=\"text-align: right;\">\n",
       "      <th></th>\n",
       "      <th>name</th>\n",
       "      <th>model</th>\n",
       "      <th>auc_test_ipo</th>\n",
       "      <th>auc_train_ipo</th>\n",
       "    </tr>\n",
       "  </thead>\n",
       "  <tbody>\n",
       "    <tr>\n",
       "      <th>0</th>\n",
       "      <td>logr</td>\n",
       "      <td>GridSearchCV(cv=3, error_score='raise',\\n     ...</td>\n",
       "      <td>0.884271</td>\n",
       "      <td>0.857341</td>\n",
       "    </tr>\n",
       "    <tr>\n",
       "      <th>1</th>\n",
       "      <td>logr_n</td>\n",
       "      <td>GridSearchCV(cv=3, error_score='raise',\\n     ...</td>\n",
       "      <td>0.899873</td>\n",
       "      <td>0.871780</td>\n",
       "    </tr>\n",
       "    <tr>\n",
       "      <th>2</th>\n",
       "      <td>RandomForest</td>\n",
       "      <td>GridSearchCV(cv=3, error_score='raise',\\n     ...</td>\n",
       "      <td>0.887779</td>\n",
       "      <td>0.937651</td>\n",
       "    </tr>\n",
       "    <tr>\n",
       "      <th>3</th>\n",
       "      <td>GradiantBoosting</td>\n",
       "      <td>GridSearchCV(cv=3, error_score='raise',\\n     ...</td>\n",
       "      <td>0.879477</td>\n",
       "      <td>0.931272</td>\n",
       "    </tr>\n",
       "    <tr>\n",
       "      <th>4</th>\n",
       "      <td>SVM</td>\n",
       "      <td>GridSearchCV(cv=3, error_score='raise',\\n     ...</td>\n",
       "      <td>0.774155</td>\n",
       "      <td>0.943658</td>\n",
       "    </tr>\n",
       "    <tr>\n",
       "      <th>5</th>\n",
       "      <td>N Bayes</td>\n",
       "      <td>GaussianNB(priors=None)</td>\n",
       "      <td>0.786299</td>\n",
       "      <td>0.787616</td>\n",
       "    </tr>\n",
       "  </tbody>\n",
       "</table>\n",
       "</div>"
      ],
      "text/plain": [
       "               name                                              model  \\\n",
       "0              logr  GridSearchCV(cv=3, error_score='raise',\\n     ...   \n",
       "1            logr_n  GridSearchCV(cv=3, error_score='raise',\\n     ...   \n",
       "2      RandomForest  GridSearchCV(cv=3, error_score='raise',\\n     ...   \n",
       "3  GradiantBoosting  GridSearchCV(cv=3, error_score='raise',\\n     ...   \n",
       "4               SVM  GridSearchCV(cv=3, error_score='raise',\\n     ...   \n",
       "5           N Bayes                            GaussianNB(priors=None)   \n",
       "\n",
       "   auc_test_ipo  auc_train_ipo  \n",
       "0      0.884271       0.857341  \n",
       "1      0.899873       0.871780  \n",
       "2      0.887779       0.937651  \n",
       "3      0.879477       0.931272  \n",
       "4      0.774155       0.943658  \n",
       "5      0.786299       0.787616  "
      ]
     },
     "execution_count": 179,
     "metadata": {},
     "output_type": "execute_result"
    }
   ],
   "source": [
    "Model_data_ipo"
   ]
  },
  {
   "cell_type": "code",
   "execution_count": 186,
   "metadata": {},
   "outputs": [
    {
     "name": "stderr",
     "output_type": "stream",
     "text": [
      "/anaconda3/lib/python3.6/site-packages/sklearn/utils/deprecation.py:122: FutureWarning: You are accessing a training score ('split0_train_score'), which will not be available by default any more in 0.21. If you need training scores, please set return_train_score=True\n",
      "  warnings.warn(*warn_args, **warn_kwargs)\n",
      "/anaconda3/lib/python3.6/site-packages/sklearn/utils/deprecation.py:122: FutureWarning: You are accessing a training score ('split1_train_score'), which will not be available by default any more in 0.21. If you need training scores, please set return_train_score=True\n",
      "  warnings.warn(*warn_args, **warn_kwargs)\n",
      "/anaconda3/lib/python3.6/site-packages/sklearn/utils/deprecation.py:122: FutureWarning: You are accessing a training score ('split2_train_score'), which will not be available by default any more in 0.21. If you need training scores, please set return_train_score=True\n",
      "  warnings.warn(*warn_args, **warn_kwargs)\n",
      "/anaconda3/lib/python3.6/site-packages/sklearn/utils/deprecation.py:122: FutureWarning: You are accessing a training score ('mean_train_score'), which will not be available by default any more in 0.21. If you need training scores, please set return_train_score=True\n",
      "  warnings.warn(*warn_args, **warn_kwargs)\n",
      "/anaconda3/lib/python3.6/site-packages/sklearn/utils/deprecation.py:122: FutureWarning: You are accessing a training score ('std_train_score'), which will not be available by default any more in 0.21. If you need training scores, please set return_train_score=True\n",
      "  warnings.warn(*warn_args, **warn_kwargs)\n"
     ]
    },
    {
     "data": {
      "text/plain": [
       "{'mean_fit_time': array([0.00558829, 0.01055471, 0.00678198, 0.01672236, 0.02362601,\n",
       "        0.02280656, 0.0352513 , 0.03362234, 0.03964814, 0.05201761,\n",
       "        0.2033627 , 0.05822476, 1.6796507 , 0.06620288]),\n",
       " 'std_fit_time': array([5.12674275e-04, 8.92269364e-04, 2.22663070e-04, 2.74444759e-03,\n",
       "        1.61161978e-03, 1.33256781e-03, 4.24342080e-03, 4.74648030e-03,\n",
       "        3.10558543e-03, 9.93963538e-03, 2.69115153e-02, 6.40230792e-03,\n",
       "        6.36538766e-01, 8.78956199e-03]),\n",
       " 'mean_score_time': array([0.00099365, 0.00116428, 0.00113368, 0.00153462, 0.00133785,\n",
       "        0.00128309, 0.001261  , 0.00129763, 0.00134865, 0.00129906,\n",
       "        0.00127006, 0.00128237, 0.00141501, 0.00134397]),\n",
       " 'std_score_time': array([7.54531921e-06, 1.51245016e-05, 5.60687643e-05, 2.37814960e-04,\n",
       "        2.92328359e-05, 1.17936224e-05, 1.94988892e-05, 3.33975178e-06,\n",
       "        5.24037794e-05, 3.44035797e-06, 1.41613411e-05, 4.13990290e-05,\n",
       "        1.79141486e-04, 3.29690742e-05]),\n",
       " 'param_C': masked_array(data=[0.001, 0.001, 0.01, 0.01, 0.1, 0.1, 1, 1, 10, 10, 100,\n",
       "                    100, 1000, 1000],\n",
       "              mask=[False, False, False, False, False, False, False, False,\n",
       "                    False, False, False, False, False, False],\n",
       "        fill_value='?',\n",
       "             dtype=object),\n",
       " 'param_penalty': masked_array(data=['l1', 'l2', 'l1', 'l2', 'l1', 'l2', 'l1', 'l2', 'l1',\n",
       "                    'l2', 'l1', 'l2', 'l1', 'l2'],\n",
       "              mask=[False, False, False, False, False, False, False, False,\n",
       "                    False, False, False, False, False, False],\n",
       "        fill_value='?',\n",
       "             dtype=object),\n",
       " 'params': [{'C': 0.001, 'penalty': 'l1'},\n",
       "  {'C': 0.001, 'penalty': 'l2'},\n",
       "  {'C': 0.01, 'penalty': 'l1'},\n",
       "  {'C': 0.01, 'penalty': 'l2'},\n",
       "  {'C': 0.1, 'penalty': 'l1'},\n",
       "  {'C': 0.1, 'penalty': 'l2'},\n",
       "  {'C': 1, 'penalty': 'l1'},\n",
       "  {'C': 1, 'penalty': 'l2'},\n",
       "  {'C': 10, 'penalty': 'l1'},\n",
       "  {'C': 10, 'penalty': 'l2'},\n",
       "  {'C': 100, 'penalty': 'l1'},\n",
       "  {'C': 100, 'penalty': 'l2'},\n",
       "  {'C': 1000, 'penalty': 'l1'},\n",
       "  {'C': 1000, 'penalty': 'l2'}],\n",
       " 'split0_test_score': array([0.5       , 0.66888661, 0.67406933, 0.69813866, 0.72815915,\n",
       "        0.71402408, 0.71830601, 0.71714054, 0.71791752, 0.71759734,\n",
       "        0.71791325, 0.71769126, 0.71790044, 0.71767845]),\n",
       " 'split1_test_score': array([0.5       , 0.68048957, 0.67417668, 0.71444466, 0.7458265 ,\n",
       "        0.73131481, 0.7367234 , 0.73264656, 0.73390097, 0.73283128,\n",
       "        0.73348856, 0.7330203 , 0.7334413 , 0.73317066]),\n",
       " 'split2_test_score': array([0.5       , 0.67075067, 0.69138621, 0.69572726, 0.73579763,\n",
       "        0.71299693, 0.71816495, 0.71512342, 0.71754204, 0.71555731,\n",
       "        0.71764943, 0.71564323, 0.71774824, 0.71565612]),\n",
       " 'mean_test_score': array([0.5       , 0.67337357, 0.67987476, 0.70276808, 0.73659058,\n",
       "        0.7194428 , 0.72439534, 0.72163479, 0.7231178 , 0.7219933 ,\n",
       "        0.72301475, 0.72211624, 0.72302766, 0.72216636]),\n",
       " 'std_test_score': array([0.        , 0.0050873 , 0.00813716, 0.00831228, 0.00723523,\n",
       "        0.00840238, 0.00871446, 0.00782728, 0.00762378, 0.00770613,\n",
       "        0.00740435, 0.00775292, 0.0073613 , 0.00782226]),\n",
       " 'rank_test_score': array([14, 13, 12, 11,  1, 10,  2,  9,  3,  8,  5,  7,  4,  6],\n",
       "       dtype=int32),\n",
       " 'split0_train_score': array([0.5       , 0.7243178 , 0.68258115, 0.76571454, 0.77485469,\n",
       "        0.77986751, 0.78085988, 0.78067515, 0.78070307, 0.78069985,\n",
       "        0.78070093, 0.780702  , 0.78069556, 0.78069985]),\n",
       " 'split1_train_score': array([0.5       , 0.7115076 , 0.682559  , 0.74922674, 0.76173859,\n",
       "        0.76451418, 0.7661897 , 0.76539958, 0.76551842, 0.76541136,\n",
       "        0.76541029, 0.76539851, 0.7653953 , 0.76539637]),\n",
       " 'split2_train_score': array([0.5       , 0.71625689, 0.67380451, 0.74853726, 0.76254905,\n",
       "        0.76536318, 0.76814466, 0.76773783, 0.76799799, 0.7679102 ,\n",
       "        0.76796373, 0.76795409, 0.76795837, 0.76795837]),\n",
       " 'mean_train_score': array([0.5       , 0.71736076, 0.67964822, 0.75449285, 0.76638077,\n",
       "        0.76991496, 0.77173141, 0.77127085, 0.77140649, 0.77134047,\n",
       "        0.77135831, 0.77135153, 0.77134974, 0.77135153]),\n",
       " 'std_train_score': array([0.        , 0.00528767, 0.00413214, 0.00793993, 0.00600109,\n",
       "        0.00704605, 0.00650395, 0.00671801, 0.00665116, 0.00669625,\n",
       "        0.00668796, 0.00669359, 0.00669081, 0.0066925 ])}"
      ]
     },
     "execution_count": 186,
     "metadata": {},
     "output_type": "execute_result"
    }
   ],
   "source": [
    "log_ac_n.cv_results_ "
   ]
  },
  {
   "cell_type": "code",
   "execution_count": 188,
   "metadata": {},
   "outputs": [
    {
     "name": "stderr",
     "output_type": "stream",
     "text": [
      "/anaconda3/lib/python3.6/site-packages/sklearn/utils/deprecation.py:122: FutureWarning: You are accessing a training score ('split0_train_score'), which will not be available by default any more in 0.21. If you need training scores, please set return_train_score=True\n",
      "  warnings.warn(*warn_args, **warn_kwargs)\n",
      "/anaconda3/lib/python3.6/site-packages/sklearn/utils/deprecation.py:122: FutureWarning: You are accessing a training score ('split1_train_score'), which will not be available by default any more in 0.21. If you need training scores, please set return_train_score=True\n",
      "  warnings.warn(*warn_args, **warn_kwargs)\n",
      "/anaconda3/lib/python3.6/site-packages/sklearn/utils/deprecation.py:122: FutureWarning: You are accessing a training score ('split2_train_score'), which will not be available by default any more in 0.21. If you need training scores, please set return_train_score=True\n",
      "  warnings.warn(*warn_args, **warn_kwargs)\n",
      "/anaconda3/lib/python3.6/site-packages/sklearn/utils/deprecation.py:122: FutureWarning: You are accessing a training score ('mean_train_score'), which will not be available by default any more in 0.21. If you need training scores, please set return_train_score=True\n",
      "  warnings.warn(*warn_args, **warn_kwargs)\n",
      "/anaconda3/lib/python3.6/site-packages/sklearn/utils/deprecation.py:122: FutureWarning: You are accessing a training score ('std_train_score'), which will not be available by default any more in 0.21. If you need training scores, please set return_train_score=True\n",
      "  warnings.warn(*warn_args, **warn_kwargs)\n"
     ]
    },
    {
     "data": {
      "text/plain": [
       "{'mean_fit_time': array([0.25533096, 0.28301096, 0.3082966 , 0.33963641, 0.26568874,\n",
       "        0.2798841 , 0.31480002, 0.33036788, 0.25352732, 0.28409799,\n",
       "        0.30398663, 0.32412434, 0.25263532, 0.26946298, 0.29920244,\n",
       "        0.32034071, 0.25049591, 0.27733095, 0.30264433, 0.32305566,\n",
       "        0.25266075, 0.27504341, 0.31723539, 0.3408583 , 0.25095812,\n",
       "        0.27761825, 0.30114738, 0.32286   , 0.25159264, 0.27475595,\n",
       "        0.30168136, 0.32455436, 0.2516346 , 0.28385385, 0.30412324,\n",
       "        0.32288067, 0.25391777, 0.27870806, 0.30409265, 0.3282543 ,\n",
       "        0.26031224, 0.2766873 , 0.31221302, 0.35405064, 0.27152864,\n",
       "        0.29536374, 0.31840793, 0.33582123, 0.26895181, 0.29156669,\n",
       "        0.31044277, 0.33239627, 0.26377463, 0.2849257 , 0.31334225,\n",
       "        0.32528361, 0.26363627, 0.29298441, 0.31986316, 0.33685406,\n",
       "        0.27028672, 0.27993894, 0.31074524, 0.32337451, 0.26002693,\n",
       "        0.27863359, 0.30979164, 0.32223479, 0.25989731, 0.281051  ,\n",
       "        0.3131671 , 0.33321341, 0.26949072, 0.28481309, 0.30054379,\n",
       "        0.33826884, 0.27034624, 0.28237565, 0.30130728, 0.32126371,\n",
       "        0.2682937 , 0.28332122, 0.30428807, 0.33521597, 0.26952449,\n",
       "        0.29832665, 0.31839728, 0.3433667 , 0.27821215, 0.28513861,\n",
       "        0.30301857, 0.34255735, 0.2636834 , 0.28940471, 0.31772327,\n",
       "        0.33562287, 0.27096669, 0.28508496, 0.29787628, 0.32809313,\n",
       "        0.26705058, 0.29607987, 0.30591718, 0.31630596, 0.2584761 ,\n",
       "        0.27756071, 0.29551506, 0.32054329, 0.259341  , 0.28844388,\n",
       "        0.30122097, 0.32484031, 0.26018325, 0.27540652, 0.30504123,\n",
       "        0.32273006, 0.26246611, 0.28481555, 0.30799635, 0.32728108]),\n",
       " 'std_fit_time': array([0.00826391, 0.0036907 , 0.00326874, 0.00327733, 0.00325971,\n",
       "        0.00791813, 0.00327882, 0.00747393, 0.0078681 , 0.00168739,\n",
       "        0.0052305 , 0.0064147 , 0.00354643, 0.0034447 , 0.00894839,\n",
       "        0.00572076, 0.00358622, 0.00095301, 0.0031399 , 0.00065091,\n",
       "        0.00506636, 0.00444182, 0.0065673 , 0.00912083, 0.00432692,\n",
       "        0.00417324, 0.00338337, 0.00601669, 0.00114169, 0.00189987,\n",
       "        0.00345079, 0.00336067, 0.00270959, 0.00412926, 0.00471318,\n",
       "        0.00183066, 0.00344553, 0.00538362, 0.00242052, 0.0035627 ,\n",
       "        0.00100857, 0.00261813, 0.01500479, 0.011593  , 0.00176639,\n",
       "        0.01565593, 0.0042723 , 0.00377269, 0.00685527, 0.00200355,\n",
       "        0.0045255 , 0.00662027, 0.00310776, 0.00667871, 0.00664537,\n",
       "        0.0029855 , 0.0089699 , 0.004101  , 0.00399317, 0.00366159,\n",
       "        0.00366122, 0.00165101, 0.00120359, 0.00464932, 0.00170784,\n",
       "        0.00222217, 0.0033571 , 0.00403643, 0.00233409, 0.00433751,\n",
       "        0.01294309, 0.00966429, 0.00040564, 0.00197516, 0.00305835,\n",
       "        0.00664746, 0.00464881, 0.00243814, 0.00202694, 0.00337467,\n",
       "        0.00341253, 0.00599746, 0.00667619, 0.00482714, 0.00498273,\n",
       "        0.00866495, 0.01168723, 0.00631044, 0.00109921, 0.00634841,\n",
       "        0.00334789, 0.00151404, 0.0043758 , 0.01169828, 0.00432167,\n",
       "        0.00228728, 0.00929668, 0.00422552, 0.00227419, 0.00649335,\n",
       "        0.00911144, 0.00490536, 0.00751077, 0.00082855, 0.0015747 ,\n",
       "        0.00159539, 0.00157064, 0.00452649, 0.00237849, 0.00398754,\n",
       "        0.00521805, 0.00532995, 0.0025021 , 0.00428433, 0.01051261,\n",
       "        0.00525354, 0.00084654, 0.00216144, 0.00766172, 0.00827483]),\n",
       " 'mean_score_time': array([0.00565108, 0.00632628, 0.00678635, 0.00717187, 0.00644167,\n",
       "        0.00613737, 0.0069863 , 0.00683467, 0.00579755, 0.00617957,\n",
       "        0.00649238, 0.00662692, 0.00559012, 0.00597374, 0.00608953,\n",
       "        0.0065376 , 0.00564241, 0.00578674, 0.00645328, 0.00657201,\n",
       "        0.00559862, 0.00602063, 0.00686431, 0.00671633, 0.00570973,\n",
       "        0.0062863 , 0.00616129, 0.0065043 , 0.00542339, 0.00578936,\n",
       "        0.00621192, 0.00656557, 0.00543404, 0.00600664, 0.00607888,\n",
       "        0.00641934, 0.00548164, 0.00606783, 0.00608222, 0.00645137,\n",
       "        0.00546034, 0.00598502, 0.00638914, 0.02051965, 0.00610542,\n",
       "        0.00628265, 0.00628765, 0.00674629, 0.00620683, 0.00607467,\n",
       "        0.00642252, 0.00656819, 0.00597358, 0.00605853, 0.00681233,\n",
       "        0.00650485, 0.00581272, 0.00607403, 0.00646424, 0.00665466,\n",
       "        0.00578427, 0.006013  , 0.00619253, 0.00629354, 0.00561039,\n",
       "        0.00588862, 0.00627073, 0.00635068, 0.00557232, 0.00605766,\n",
       "        0.00671991, 0.006893  , 0.00585365, 0.00589434, 0.0060842 ,\n",
       "        0.00644048, 0.00586383, 0.00575296, 0.00591532, 0.00637341,\n",
       "        0.00575646, 0.00584881, 0.00658766, 0.00661532, 0.00584467,\n",
       "        0.00626842, 0.00662541, 0.00677292, 0.00581471, 0.00592573,\n",
       "        0.00600815, 0.00665402, 0.00603151, 0.0060943 , 0.00652703,\n",
       "        0.00688926, 0.0059816 , 0.00586255, 0.0059464 , 0.0062228 ,\n",
       "        0.00561833, 0.0062844 , 0.00601268, 0.00601006, 0.00548792,\n",
       "        0.0057772 , 0.00598796, 0.00621327, 0.00534574, 0.00587869,\n",
       "        0.00610065, 0.00615875, 0.00527541, 0.00557097, 0.00589832,\n",
       "        0.00647203, 0.00568398, 0.00578109, 0.00598359, 0.00605472]),\n",
       " 'std_score_time': array([3.52934469e-04, 1.55099222e-04, 3.63065756e-04, 4.88683299e-04,\n",
       "        2.78486327e-04, 3.43435708e-04, 2.77123651e-04, 2.78165885e-04,\n",
       "        5.77331999e-04, 2.95611798e-04, 2.13115894e-04, 2.36054649e-04,\n",
       "        7.43255235e-05, 4.45591688e-04, 1.09595869e-04, 1.44122711e-04,\n",
       "        1.55394785e-04, 1.00045188e-04, 3.36371186e-04, 3.68390781e-05,\n",
       "        2.89463481e-04, 2.33743151e-04, 3.95151446e-04, 2.17469490e-04,\n",
       "        4.71108892e-04, 5.05336051e-04, 1.09161057e-04, 2.69036396e-04,\n",
       "        6.24675888e-05, 8.58440065e-05, 2.16181050e-04, 2.92704422e-04,\n",
       "        1.37706080e-04, 3.42805920e-04, 1.08361761e-04, 1.07835563e-04,\n",
       "        1.66896676e-04, 2.46167795e-04, 1.84430226e-04, 2.68662936e-04,\n",
       "        9.93549337e-05, 3.54175808e-04, 3.03266996e-04, 1.95952024e-02,\n",
       "        8.07315961e-05, 5.93526483e-04, 1.96031436e-04, 2.53133247e-04,\n",
       "        2.68238126e-04, 1.36711938e-04, 2.48679683e-04, 3.32323914e-05,\n",
       "        1.74017582e-04, 1.65511880e-04, 4.80525179e-04, 8.84609685e-05,\n",
       "        5.47693173e-04, 3.27715296e-04, 1.63978029e-04, 2.87043186e-04,\n",
       "        1.30564161e-04, 3.38042589e-04, 9.32417507e-05, 1.88572467e-04,\n",
       "        1.65888321e-04, 1.60616085e-04, 1.99155149e-04, 2.96361188e-04,\n",
       "        1.80494150e-04, 5.38335648e-04, 7.04644442e-04, 6.56754327e-04,\n",
       "        9.77000434e-05, 1.63426772e-04, 8.47525792e-05, 3.04751072e-04,\n",
       "        2.19370171e-04, 9.12694500e-05, 9.57770953e-05, 2.72919404e-04,\n",
       "        3.91095301e-05, 3.88519069e-05, 5.25355554e-04, 3.66704637e-04,\n",
       "        2.80773103e-04, 1.94294353e-04, 3.08355699e-04, 2.95706091e-04,\n",
       "        2.78164727e-04, 1.34178668e-04, 7.22816035e-05, 2.70657352e-04,\n",
       "        3.63563083e-04, 4.17769873e-04, 2.84858512e-04, 3.01922049e-04,\n",
       "        3.84667934e-04, 1.83062554e-04, 6.69349280e-05, 2.98351891e-04,\n",
       "        2.22067677e-04, 4.15603743e-04, 2.04950228e-04, 2.05041179e-04,\n",
       "        1.75088324e-04, 1.76605074e-05, 3.24672671e-04, 1.28609728e-04,\n",
       "        4.09841160e-05, 2.82988358e-04, 7.42925453e-05, 2.39793021e-04,\n",
       "        6.33916500e-05, 1.03279438e-04, 1.02095934e-04, 1.52325943e-04,\n",
       "        2.57341489e-04, 8.21398046e-05, 5.65211291e-05, 7.62358915e-05]),\n",
       " 'param_learning_rate': masked_array(data=[0.0001, 0.0001, 0.0001, 0.0001, 0.00013203517797162948,\n",
       "                    0.00013203517797162948, 0.00013203517797162948,\n",
       "                    0.00013203517797162948, 0.00017433288221999874,\n",
       "                    0.00017433288221999874, 0.00017433288221999874,\n",
       "                    0.00017433288221999874, 0.00023018073130224678,\n",
       "                    0.00023018073130224678, 0.00023018073130224678,\n",
       "                    0.00023018073130224678, 0.0003039195382313198,\n",
       "                    0.0003039195382313198, 0.0003039195382313198,\n",
       "                    0.0003039195382313198, 0.0004012807031942776,\n",
       "                    0.0004012807031942776, 0.0004012807031942776,\n",
       "                    0.0004012807031942776, 0.0005298316906283707,\n",
       "                    0.0005298316906283707, 0.0005298316906283707,\n",
       "                    0.0005298316906283707, 0.0006995642156712634,\n",
       "                    0.0006995642156712634, 0.0006995642156712634,\n",
       "                    0.0006995642156712634, 0.0009236708571873865,\n",
       "                    0.0009236708571873865, 0.0009236708571873865,\n",
       "                    0.0009236708571873865, 0.0012195704601594415,\n",
       "                    0.0012195704601594415, 0.0012195704601594415,\n",
       "                    0.0012195704601594415, 0.0016102620275609393,\n",
       "                    0.0016102620275609393, 0.0016102620275609393,\n",
       "                    0.0016102620275609393, 0.0021261123338996556,\n",
       "                    0.0021261123338996556, 0.0021261123338996556,\n",
       "                    0.0021261123338996556, 0.0028072162039411755,\n",
       "                    0.0028072162039411755, 0.0028072162039411755,\n",
       "                    0.0028072162039411755, 0.0037065129109221566,\n",
       "                    0.0037065129109221566, 0.0037065129109221566,\n",
       "                    0.0037065129109221566, 0.004893900918477494,\n",
       "                    0.004893900918477494, 0.004893900918477494,\n",
       "                    0.004893900918477494, 0.006461670787466976,\n",
       "                    0.006461670787466976, 0.006461670787466976,\n",
       "                    0.006461670787466976, 0.008531678524172814,\n",
       "                    0.008531678524172814, 0.008531678524172814,\n",
       "                    0.008531678524172814, 0.011264816923358867,\n",
       "                    0.011264816923358867, 0.011264816923358867,\n",
       "                    0.011264816923358867, 0.014873521072935119,\n",
       "                    0.014873521072935119, 0.014873521072935119,\n",
       "                    0.014873521072935119, 0.0196382800192977,\n",
       "                    0.0196382800192977, 0.0196382800192977,\n",
       "                    0.0196382800192977, 0.02592943797404667,\n",
       "                    0.02592943797404667, 0.02592943797404667,\n",
       "                    0.02592943797404667, 0.03423597957607583,\n",
       "                    0.03423597957607583, 0.03423597957607583,\n",
       "                    0.03423597957607583, 0.04520353656360245,\n",
       "                    0.04520353656360245, 0.04520353656360245,\n",
       "                    0.04520353656360245, 0.05968456995122311,\n",
       "                    0.05968456995122311, 0.05968456995122311,\n",
       "                    0.05968456995122311, 0.07880462815669913,\n",
       "                    0.07880462815669913, 0.07880462815669913,\n",
       "                    0.07880462815669913, 0.10404983103657853,\n",
       "                    0.10404983103657853, 0.10404983103657853,\n",
       "                    0.10404983103657853, 0.1373823795883264,\n",
       "                    0.1373823795883264, 0.1373823795883264,\n",
       "                    0.1373823795883264, 0.1813930693911063,\n",
       "                    0.1813930693911063, 0.1813930693911063,\n",
       "                    0.1813930693911063, 0.2395026619987486,\n",
       "                    0.2395026619987486, 0.2395026619987486,\n",
       "                    0.2395026619987486, 0.31622776601683794,\n",
       "                    0.31622776601683794, 0.31622776601683794,\n",
       "                    0.31622776601683794],\n",
       "              mask=[False, False, False, False, False, False, False, False,\n",
       "                    False, False, False, False, False, False, False, False,\n",
       "                    False, False, False, False, False, False, False, False,\n",
       "                    False, False, False, False, False, False, False, False,\n",
       "                    False, False, False, False, False, False, False, False,\n",
       "                    False, False, False, False, False, False, False, False,\n",
       "                    False, False, False, False, False, False, False, False,\n",
       "                    False, False, False, False, False, False, False, False,\n",
       "                    False, False, False, False, False, False, False, False,\n",
       "                    False, False, False, False, False, False, False, False,\n",
       "                    False, False, False, False, False, False, False, False,\n",
       "                    False, False, False, False, False, False, False, False,\n",
       "                    False, False, False, False, False, False, False, False,\n",
       "                    False, False, False, False, False, False, False, False,\n",
       "                    False, False, False, False, False, False, False, False],\n",
       "        fill_value='?',\n",
       "             dtype=object),\n",
       " 'param_max_features': masked_array(data=[1, 2, 3, 4, 1, 2, 3, 4, 1, 2, 3, 4, 1, 2, 3, 4, 1, 2,\n",
       "                    3, 4, 1, 2, 3, 4, 1, 2, 3, 4, 1, 2, 3, 4, 1, 2, 3, 4,\n",
       "                    1, 2, 3, 4, 1, 2, 3, 4, 1, 2, 3, 4, 1, 2, 3, 4, 1, 2,\n",
       "                    3, 4, 1, 2, 3, 4, 1, 2, 3, 4, 1, 2, 3, 4, 1, 2, 3, 4,\n",
       "                    1, 2, 3, 4, 1, 2, 3, 4, 1, 2, 3, 4, 1, 2, 3, 4, 1, 2,\n",
       "                    3, 4, 1, 2, 3, 4, 1, 2, 3, 4, 1, 2, 3, 4, 1, 2, 3, 4,\n",
       "                    1, 2, 3, 4, 1, 2, 3, 4, 1, 2, 3, 4],\n",
       "              mask=[False, False, False, False, False, False, False, False,\n",
       "                    False, False, False, False, False, False, False, False,\n",
       "                    False, False, False, False, False, False, False, False,\n",
       "                    False, False, False, False, False, False, False, False,\n",
       "                    False, False, False, False, False, False, False, False,\n",
       "                    False, False, False, False, False, False, False, False,\n",
       "                    False, False, False, False, False, False, False, False,\n",
       "                    False, False, False, False, False, False, False, False,\n",
       "                    False, False, False, False, False, False, False, False,\n",
       "                    False, False, False, False, False, False, False, False,\n",
       "                    False, False, False, False, False, False, False, False,\n",
       "                    False, False, False, False, False, False, False, False,\n",
       "                    False, False, False, False, False, False, False, False,\n",
       "                    False, False, False, False, False, False, False, False,\n",
       "                    False, False, False, False, False, False, False, False],\n",
       "        fill_value='?',\n",
       "             dtype=object),\n",
       " 'param_n_estimators': masked_array(data=[300, 300, 300, 300, 300, 300, 300, 300, 300, 300, 300,\n",
       "                    300, 300, 300, 300, 300, 300, 300, 300, 300, 300, 300,\n",
       "                    300, 300, 300, 300, 300, 300, 300, 300, 300, 300, 300,\n",
       "                    300, 300, 300, 300, 300, 300, 300, 300, 300, 300, 300,\n",
       "                    300, 300, 300, 300, 300, 300, 300, 300, 300, 300, 300,\n",
       "                    300, 300, 300, 300, 300, 300, 300, 300, 300, 300, 300,\n",
       "                    300, 300, 300, 300, 300, 300, 300, 300, 300, 300, 300,\n",
       "                    300, 300, 300, 300, 300, 300, 300, 300, 300, 300, 300,\n",
       "                    300, 300, 300, 300, 300, 300, 300, 300, 300, 300, 300,\n",
       "                    300, 300, 300, 300, 300, 300, 300, 300, 300, 300, 300,\n",
       "                    300, 300, 300, 300, 300, 300, 300, 300, 300, 300],\n",
       "              mask=[False, False, False, False, False, False, False, False,\n",
       "                    False, False, False, False, False, False, False, False,\n",
       "                    False, False, False, False, False, False, False, False,\n",
       "                    False, False, False, False, False, False, False, False,\n",
       "                    False, False, False, False, False, False, False, False,\n",
       "                    False, False, False, False, False, False, False, False,\n",
       "                    False, False, False, False, False, False, False, False,\n",
       "                    False, False, False, False, False, False, False, False,\n",
       "                    False, False, False, False, False, False, False, False,\n",
       "                    False, False, False, False, False, False, False, False,\n",
       "                    False, False, False, False, False, False, False, False,\n",
       "                    False, False, False, False, False, False, False, False,\n",
       "                    False, False, False, False, False, False, False, False,\n",
       "                    False, False, False, False, False, False, False, False,\n",
       "                    False, False, False, False, False, False, False, False],\n",
       "        fill_value='?',\n",
       "             dtype=object),\n",
       " 'params': [{'learning_rate': 0.0001, 'max_features': 1, 'n_estimators': 300},\n",
       "  {'learning_rate': 0.0001, 'max_features': 2, 'n_estimators': 300},\n",
       "  {'learning_rate': 0.0001, 'max_features': 3, 'n_estimators': 300},\n",
       "  {'learning_rate': 0.0001, 'max_features': 4, 'n_estimators': 300},\n",
       "  {'learning_rate': 0.00013203517797162948,\n",
       "   'max_features': 1,\n",
       "   'n_estimators': 300},\n",
       "  {'learning_rate': 0.00013203517797162948,\n",
       "   'max_features': 2,\n",
       "   'n_estimators': 300},\n",
       "  {'learning_rate': 0.00013203517797162948,\n",
       "   'max_features': 3,\n",
       "   'n_estimators': 300},\n",
       "  {'learning_rate': 0.00013203517797162948,\n",
       "   'max_features': 4,\n",
       "   'n_estimators': 300},\n",
       "  {'learning_rate': 0.00017433288221999874,\n",
       "   'max_features': 1,\n",
       "   'n_estimators': 300},\n",
       "  {'learning_rate': 0.00017433288221999874,\n",
       "   'max_features': 2,\n",
       "   'n_estimators': 300},\n",
       "  {'learning_rate': 0.00017433288221999874,\n",
       "   'max_features': 3,\n",
       "   'n_estimators': 300},\n",
       "  {'learning_rate': 0.00017433288221999874,\n",
       "   'max_features': 4,\n",
       "   'n_estimators': 300},\n",
       "  {'learning_rate': 0.00023018073130224678,\n",
       "   'max_features': 1,\n",
       "   'n_estimators': 300},\n",
       "  {'learning_rate': 0.00023018073130224678,\n",
       "   'max_features': 2,\n",
       "   'n_estimators': 300},\n",
       "  {'learning_rate': 0.00023018073130224678,\n",
       "   'max_features': 3,\n",
       "   'n_estimators': 300},\n",
       "  {'learning_rate': 0.00023018073130224678,\n",
       "   'max_features': 4,\n",
       "   'n_estimators': 300},\n",
       "  {'learning_rate': 0.0003039195382313198,\n",
       "   'max_features': 1,\n",
       "   'n_estimators': 300},\n",
       "  {'learning_rate': 0.0003039195382313198,\n",
       "   'max_features': 2,\n",
       "   'n_estimators': 300},\n",
       "  {'learning_rate': 0.0003039195382313198,\n",
       "   'max_features': 3,\n",
       "   'n_estimators': 300},\n",
       "  {'learning_rate': 0.0003039195382313198,\n",
       "   'max_features': 4,\n",
       "   'n_estimators': 300},\n",
       "  {'learning_rate': 0.0004012807031942776,\n",
       "   'max_features': 1,\n",
       "   'n_estimators': 300},\n",
       "  {'learning_rate': 0.0004012807031942776,\n",
       "   'max_features': 2,\n",
       "   'n_estimators': 300},\n",
       "  {'learning_rate': 0.0004012807031942776,\n",
       "   'max_features': 3,\n",
       "   'n_estimators': 300},\n",
       "  {'learning_rate': 0.0004012807031942776,\n",
       "   'max_features': 4,\n",
       "   'n_estimators': 300},\n",
       "  {'learning_rate': 0.0005298316906283707,\n",
       "   'max_features': 1,\n",
       "   'n_estimators': 300},\n",
       "  {'learning_rate': 0.0005298316906283707,\n",
       "   'max_features': 2,\n",
       "   'n_estimators': 300},\n",
       "  {'learning_rate': 0.0005298316906283707,\n",
       "   'max_features': 3,\n",
       "   'n_estimators': 300},\n",
       "  {'learning_rate': 0.0005298316906283707,\n",
       "   'max_features': 4,\n",
       "   'n_estimators': 300},\n",
       "  {'learning_rate': 0.0006995642156712634,\n",
       "   'max_features': 1,\n",
       "   'n_estimators': 300},\n",
       "  {'learning_rate': 0.0006995642156712634,\n",
       "   'max_features': 2,\n",
       "   'n_estimators': 300},\n",
       "  {'learning_rate': 0.0006995642156712634,\n",
       "   'max_features': 3,\n",
       "   'n_estimators': 300},\n",
       "  {'learning_rate': 0.0006995642156712634,\n",
       "   'max_features': 4,\n",
       "   'n_estimators': 300},\n",
       "  {'learning_rate': 0.0009236708571873865,\n",
       "   'max_features': 1,\n",
       "   'n_estimators': 300},\n",
       "  {'learning_rate': 0.0009236708571873865,\n",
       "   'max_features': 2,\n",
       "   'n_estimators': 300},\n",
       "  {'learning_rate': 0.0009236708571873865,\n",
       "   'max_features': 3,\n",
       "   'n_estimators': 300},\n",
       "  {'learning_rate': 0.0009236708571873865,\n",
       "   'max_features': 4,\n",
       "   'n_estimators': 300},\n",
       "  {'learning_rate': 0.0012195704601594415,\n",
       "   'max_features': 1,\n",
       "   'n_estimators': 300},\n",
       "  {'learning_rate': 0.0012195704601594415,\n",
       "   'max_features': 2,\n",
       "   'n_estimators': 300},\n",
       "  {'learning_rate': 0.0012195704601594415,\n",
       "   'max_features': 3,\n",
       "   'n_estimators': 300},\n",
       "  {'learning_rate': 0.0012195704601594415,\n",
       "   'max_features': 4,\n",
       "   'n_estimators': 300},\n",
       "  {'learning_rate': 0.0016102620275609393,\n",
       "   'max_features': 1,\n",
       "   'n_estimators': 300},\n",
       "  {'learning_rate': 0.0016102620275609393,\n",
       "   'max_features': 2,\n",
       "   'n_estimators': 300},\n",
       "  {'learning_rate': 0.0016102620275609393,\n",
       "   'max_features': 3,\n",
       "   'n_estimators': 300},\n",
       "  {'learning_rate': 0.0016102620275609393,\n",
       "   'max_features': 4,\n",
       "   'n_estimators': 300},\n",
       "  {'learning_rate': 0.0021261123338996556,\n",
       "   'max_features': 1,\n",
       "   'n_estimators': 300},\n",
       "  {'learning_rate': 0.0021261123338996556,\n",
       "   'max_features': 2,\n",
       "   'n_estimators': 300},\n",
       "  {'learning_rate': 0.0021261123338996556,\n",
       "   'max_features': 3,\n",
       "   'n_estimators': 300},\n",
       "  {'learning_rate': 0.0021261123338996556,\n",
       "   'max_features': 4,\n",
       "   'n_estimators': 300},\n",
       "  {'learning_rate': 0.0028072162039411755,\n",
       "   'max_features': 1,\n",
       "   'n_estimators': 300},\n",
       "  {'learning_rate': 0.0028072162039411755,\n",
       "   'max_features': 2,\n",
       "   'n_estimators': 300},\n",
       "  {'learning_rate': 0.0028072162039411755,\n",
       "   'max_features': 3,\n",
       "   'n_estimators': 300},\n",
       "  {'learning_rate': 0.0028072162039411755,\n",
       "   'max_features': 4,\n",
       "   'n_estimators': 300},\n",
       "  {'learning_rate': 0.0037065129109221566,\n",
       "   'max_features': 1,\n",
       "   'n_estimators': 300},\n",
       "  {'learning_rate': 0.0037065129109221566,\n",
       "   'max_features': 2,\n",
       "   'n_estimators': 300},\n",
       "  {'learning_rate': 0.0037065129109221566,\n",
       "   'max_features': 3,\n",
       "   'n_estimators': 300},\n",
       "  {'learning_rate': 0.0037065129109221566,\n",
       "   'max_features': 4,\n",
       "   'n_estimators': 300},\n",
       "  {'learning_rate': 0.004893900918477494,\n",
       "   'max_features': 1,\n",
       "   'n_estimators': 300},\n",
       "  {'learning_rate': 0.004893900918477494,\n",
       "   'max_features': 2,\n",
       "   'n_estimators': 300},\n",
       "  {'learning_rate': 0.004893900918477494,\n",
       "   'max_features': 3,\n",
       "   'n_estimators': 300},\n",
       "  {'learning_rate': 0.004893900918477494,\n",
       "   'max_features': 4,\n",
       "   'n_estimators': 300},\n",
       "  {'learning_rate': 0.006461670787466976,\n",
       "   'max_features': 1,\n",
       "   'n_estimators': 300},\n",
       "  {'learning_rate': 0.006461670787466976,\n",
       "   'max_features': 2,\n",
       "   'n_estimators': 300},\n",
       "  {'learning_rate': 0.006461670787466976,\n",
       "   'max_features': 3,\n",
       "   'n_estimators': 300},\n",
       "  {'learning_rate': 0.006461670787466976,\n",
       "   'max_features': 4,\n",
       "   'n_estimators': 300},\n",
       "  {'learning_rate': 0.008531678524172814,\n",
       "   'max_features': 1,\n",
       "   'n_estimators': 300},\n",
       "  {'learning_rate': 0.008531678524172814,\n",
       "   'max_features': 2,\n",
       "   'n_estimators': 300},\n",
       "  {'learning_rate': 0.008531678524172814,\n",
       "   'max_features': 3,\n",
       "   'n_estimators': 300},\n",
       "  {'learning_rate': 0.008531678524172814,\n",
       "   'max_features': 4,\n",
       "   'n_estimators': 300},\n",
       "  {'learning_rate': 0.011264816923358867,\n",
       "   'max_features': 1,\n",
       "   'n_estimators': 300},\n",
       "  {'learning_rate': 0.011264816923358867,\n",
       "   'max_features': 2,\n",
       "   'n_estimators': 300},\n",
       "  {'learning_rate': 0.011264816923358867,\n",
       "   'max_features': 3,\n",
       "   'n_estimators': 300},\n",
       "  {'learning_rate': 0.011264816923358867,\n",
       "   'max_features': 4,\n",
       "   'n_estimators': 300},\n",
       "  {'learning_rate': 0.014873521072935119,\n",
       "   'max_features': 1,\n",
       "   'n_estimators': 300},\n",
       "  {'learning_rate': 0.014873521072935119,\n",
       "   'max_features': 2,\n",
       "   'n_estimators': 300},\n",
       "  {'learning_rate': 0.014873521072935119,\n",
       "   'max_features': 3,\n",
       "   'n_estimators': 300},\n",
       "  {'learning_rate': 0.014873521072935119,\n",
       "   'max_features': 4,\n",
       "   'n_estimators': 300},\n",
       "  {'learning_rate': 0.0196382800192977,\n",
       "   'max_features': 1,\n",
       "   'n_estimators': 300},\n",
       "  {'learning_rate': 0.0196382800192977,\n",
       "   'max_features': 2,\n",
       "   'n_estimators': 300},\n",
       "  {'learning_rate': 0.0196382800192977,\n",
       "   'max_features': 3,\n",
       "   'n_estimators': 300},\n",
       "  {'learning_rate': 0.0196382800192977,\n",
       "   'max_features': 4,\n",
       "   'n_estimators': 300},\n",
       "  {'learning_rate': 0.02592943797404667,\n",
       "   'max_features': 1,\n",
       "   'n_estimators': 300},\n",
       "  {'learning_rate': 0.02592943797404667,\n",
       "   'max_features': 2,\n",
       "   'n_estimators': 300},\n",
       "  {'learning_rate': 0.02592943797404667,\n",
       "   'max_features': 3,\n",
       "   'n_estimators': 300},\n",
       "  {'learning_rate': 0.02592943797404667,\n",
       "   'max_features': 4,\n",
       "   'n_estimators': 300},\n",
       "  {'learning_rate': 0.03423597957607583,\n",
       "   'max_features': 1,\n",
       "   'n_estimators': 300},\n",
       "  {'learning_rate': 0.03423597957607583,\n",
       "   'max_features': 2,\n",
       "   'n_estimators': 300},\n",
       "  {'learning_rate': 0.03423597957607583,\n",
       "   'max_features': 3,\n",
       "   'n_estimators': 300},\n",
       "  {'learning_rate': 0.03423597957607583,\n",
       "   'max_features': 4,\n",
       "   'n_estimators': 300},\n",
       "  {'learning_rate': 0.04520353656360245,\n",
       "   'max_features': 1,\n",
       "   'n_estimators': 300},\n",
       "  {'learning_rate': 0.04520353656360245,\n",
       "   'max_features': 2,\n",
       "   'n_estimators': 300},\n",
       "  {'learning_rate': 0.04520353656360245,\n",
       "   'max_features': 3,\n",
       "   'n_estimators': 300},\n",
       "  {'learning_rate': 0.04520353656360245,\n",
       "   'max_features': 4,\n",
       "   'n_estimators': 300},\n",
       "  {'learning_rate': 0.05968456995122311,\n",
       "   'max_features': 1,\n",
       "   'n_estimators': 300},\n",
       "  {'learning_rate': 0.05968456995122311,\n",
       "   'max_features': 2,\n",
       "   'n_estimators': 300},\n",
       "  {'learning_rate': 0.05968456995122311,\n",
       "   'max_features': 3,\n",
       "   'n_estimators': 300},\n",
       "  {'learning_rate': 0.05968456995122311,\n",
       "   'max_features': 4,\n",
       "   'n_estimators': 300},\n",
       "  {'learning_rate': 0.07880462815669913,\n",
       "   'max_features': 1,\n",
       "   'n_estimators': 300},\n",
       "  {'learning_rate': 0.07880462815669913,\n",
       "   'max_features': 2,\n",
       "   'n_estimators': 300},\n",
       "  {'learning_rate': 0.07880462815669913,\n",
       "   'max_features': 3,\n",
       "   'n_estimators': 300},\n",
       "  {'learning_rate': 0.07880462815669913,\n",
       "   'max_features': 4,\n",
       "   'n_estimators': 300},\n",
       "  {'learning_rate': 0.10404983103657853,\n",
       "   'max_features': 1,\n",
       "   'n_estimators': 300},\n",
       "  {'learning_rate': 0.10404983103657853,\n",
       "   'max_features': 2,\n",
       "   'n_estimators': 300},\n",
       "  {'learning_rate': 0.10404983103657853,\n",
       "   'max_features': 3,\n",
       "   'n_estimators': 300},\n",
       "  {'learning_rate': 0.10404983103657853,\n",
       "   'max_features': 4,\n",
       "   'n_estimators': 300},\n",
       "  {'learning_rate': 0.1373823795883264,\n",
       "   'max_features': 1,\n",
       "   'n_estimators': 300},\n",
       "  {'learning_rate': 0.1373823795883264,\n",
       "   'max_features': 2,\n",
       "   'n_estimators': 300},\n",
       "  {'learning_rate': 0.1373823795883264,\n",
       "   'max_features': 3,\n",
       "   'n_estimators': 300},\n",
       "  {'learning_rate': 0.1373823795883264,\n",
       "   'max_features': 4,\n",
       "   'n_estimators': 300},\n",
       "  {'learning_rate': 0.1813930693911063,\n",
       "   'max_features': 1,\n",
       "   'n_estimators': 300},\n",
       "  {'learning_rate': 0.1813930693911063,\n",
       "   'max_features': 2,\n",
       "   'n_estimators': 300},\n",
       "  {'learning_rate': 0.1813930693911063,\n",
       "   'max_features': 3,\n",
       "   'n_estimators': 300},\n",
       "  {'learning_rate': 0.1813930693911063,\n",
       "   'max_features': 4,\n",
       "   'n_estimators': 300},\n",
       "  {'learning_rate': 0.2395026619987486,\n",
       "   'max_features': 1,\n",
       "   'n_estimators': 300},\n",
       "  {'learning_rate': 0.2395026619987486,\n",
       "   'max_features': 2,\n",
       "   'n_estimators': 300},\n",
       "  {'learning_rate': 0.2395026619987486,\n",
       "   'max_features': 3,\n",
       "   'n_estimators': 300},\n",
       "  {'learning_rate': 0.2395026619987486,\n",
       "   'max_features': 4,\n",
       "   'n_estimators': 300},\n",
       "  {'learning_rate': 0.31622776601683794,\n",
       "   'max_features': 1,\n",
       "   'n_estimators': 300},\n",
       "  {'learning_rate': 0.31622776601683794,\n",
       "   'max_features': 2,\n",
       "   'n_estimators': 300},\n",
       "  {'learning_rate': 0.31622776601683794,\n",
       "   'max_features': 3,\n",
       "   'n_estimators': 300},\n",
       "  {'learning_rate': 0.31622776601683794,\n",
       "   'max_features': 4,\n",
       "   'n_estimators': 300}],\n",
       " 'split0_test_score': array([0.69131233, 0.69212133, 0.68726733, 0.6986659 , 0.68682334,\n",
       "        0.69667222, 0.69076802, 0.70267888, 0.68520534, 0.68427468,\n",
       "        0.69515241, 0.70024974, 0.68725453, 0.68443477, 0.69690061,\n",
       "        0.69571593, 0.67704918, 0.67830003, 0.70319971, 0.69917392,\n",
       "        0.6704299 , 0.67887637, 0.69468494, 0.70612833, 0.67440659,\n",
       "        0.68762807, 0.68984802, 0.693861  , 0.68357667, 0.68917136,\n",
       "        0.69330388, 0.69432633, 0.68834102, 0.69234332, 0.69608094,\n",
       "        0.69523139, 0.67398395, 0.69143613, 0.69834998, 0.70552425,\n",
       "        0.67396687, 0.69870645, 0.699889  , 0.69655055, 0.68703893,\n",
       "        0.68830046, 0.69796576, 0.69904372, 0.67616334, 0.69720586,\n",
       "        0.69992316, 0.69658256, 0.67330516, 0.68670381, 0.69719945,\n",
       "        0.69780994, 0.66950137, 0.68922259, 0.6946764 , 0.7094988 ,\n",
       "        0.68548924, 0.69047558, 0.70039916, 0.71139857, 0.68035348,\n",
       "        0.69527194, 0.69015326, 0.7074731 , 0.68631745, 0.69007001,\n",
       "        0.70241419, 0.69683444, 0.67979209, 0.69720372, 0.71230362,\n",
       "        0.69614498, 0.69399761, 0.70163081, 0.69597208, 0.70676443,\n",
       "        0.67900017, 0.68573045, 0.69706071, 0.70257642, 0.68480618,\n",
       "        0.69333589, 0.69116504, 0.71057676, 0.68578595, 0.68947661,\n",
       "        0.70234375, 0.69931907, 0.67315147, 0.697795  , 0.7047985 ,\n",
       "        0.69655482, 0.69047985, 0.69689635, 0.69458675, 0.69888362,\n",
       "        0.69944074, 0.69053108, 0.68988858, 0.70422643, 0.67313866,\n",
       "        0.70461919, 0.68663337, 0.70078125, 0.67404372, 0.6872716 ,\n",
       "        0.70047387, 0.70067879, 0.68603142, 0.67142461, 0.68106856,\n",
       "        0.68590121, 0.66220756, 0.67770663, 0.692941  , 0.67908128]),\n",
       " 'split1_test_score': array([0.64620153, 0.63735834, 0.64255428, 0.64904115, 0.64329318,\n",
       "        0.64691251, 0.65082826, 0.65772968, 0.6553347 , 0.65341656,\n",
       "        0.64762349, 0.65708744, 0.63936454, 0.63170489, 0.65492658,\n",
       "        0.65806906, 0.62360919, 0.64316215, 0.6508927 , 0.6527915 ,\n",
       "        0.64735069, 0.63688149, 0.64034187, 0.65626047, 0.63809295,\n",
       "        0.63737553, 0.6537495 , 0.66090653, 0.64820344, 0.64445094,\n",
       "        0.64596096, 0.65318458, 0.62938723, 0.63319987, 0.64716597,\n",
       "        0.6575471 , 0.64400416, 0.6394161 , 0.64939986, 0.65273995,\n",
       "        0.65302778, 0.65169174, 0.64723256, 0.65463231, 0.63339749,\n",
       "        0.64342421, 0.64751824, 0.65248219, 0.64801657, 0.65400081,\n",
       "        0.65138029, 0.66290199, 0.63972326, 0.65210845, 0.66302443,\n",
       "        0.67188695, 0.63519534, 0.6579187 , 0.66055856, 0.6604619 ,\n",
       "        0.62515143, 0.66295784, 0.65347456, 0.6784941 , 0.62760871,\n",
       "        0.6580261 , 0.64717241, 0.67456332, 0.65264114, 0.64179175,\n",
       "        0.66862633, 0.68056689, 0.64945356, 0.65759651, 0.67687238,\n",
       "        0.68370508, 0.6476643 , 0.66483946, 0.68848216, 0.701559  ,\n",
       "        0.65945235, 0.68100508, 0.69548239, 0.69767762, 0.67612489,\n",
       "        0.67284065, 0.69011676, 0.71150409, 0.65947383, 0.69729528,\n",
       "        0.70651866, 0.71773965, 0.67215115, 0.6937812 , 0.70374348,\n",
       "        0.7238227 , 0.67473086, 0.70101341, 0.69675184, 0.71671722,\n",
       "        0.67393826, 0.69346974, 0.70997474, 0.72571291, 0.68631486,\n",
       "        0.71056973, 0.70290792, 0.71951387, 0.67096762, 0.68523873,\n",
       "        0.70641985, 0.70867522, 0.6660144 , 0.69470912, 0.70580553,\n",
       "        0.69794396, 0.68558884, 0.69765614, 0.69156449, 0.70345995]),\n",
       " 'split2_test_score': array([0.66915903, 0.67963682, 0.67946713, 0.69194683, 0.6613619 ,\n",
       "        0.6627323 , 0.67797429, 0.67958957, 0.64368841, 0.67926093,\n",
       "        0.6801373 , 0.68603562, 0.67307263, 0.66573731, 0.67714732,\n",
       "        0.69256115, 0.65789078, 0.67106213, 0.68338932, 0.68490364,\n",
       "        0.67574685, 0.66887979, 0.68320675, 0.67877763, 0.680133  ,\n",
       "        0.66640103, 0.68242703, 0.69193824, 0.66807001, 0.66819029,\n",
       "        0.68379744, 0.68269123, 0.65786715, 0.66908385, 0.68194159,\n",
       "        0.6864244 , 0.66809363, 0.67637835, 0.67814398, 0.68813634,\n",
       "        0.65304496, 0.66937382, 0.67672847, 0.69419576, 0.66104829,\n",
       "        0.68055186, 0.68783347, 0.6920306 , 0.67701845, 0.67990317,\n",
       "        0.69062368, 0.69218526, 0.68591963, 0.68033706, 0.68300054,\n",
       "        0.6966917 , 0.66660509, 0.67689386, 0.69029719, 0.68854015,\n",
       "        0.68263539, 0.67879911, 0.69538144, 0.69855828, 0.67174303,\n",
       "        0.67824709, 0.69327643, 0.70194348, 0.67688957, 0.68186427,\n",
       "        0.68660483, 0.70092964, 0.68535042, 0.68128217, 0.69934874,\n",
       "        0.69915971, 0.66732466, 0.69836067, 0.69813299, 0.69978477,\n",
       "        0.68515281, 0.69786234, 0.69112846, 0.70014778, 0.68876139,\n",
       "        0.69483585, 0.70951722, 0.70888142, 0.69746067, 0.69619981,\n",
       "        0.7029294 , 0.71637139, 0.6964812 , 0.69533633, 0.69630936,\n",
       "        0.71745612, 0.70045709, 0.69448144, 0.71078667, 0.72030862,\n",
       "        0.6872707 , 0.70817904, 0.71131078, 0.71427283, 0.69431819,\n",
       "        0.69666377, 0.71527593, 0.72135898, 0.6968485 , 0.70436854,\n",
       "        0.69702034, 0.71765803, 0.69467905, 0.67540532, 0.70827999,\n",
       "        0.70347284, 0.68416044, 0.69683776, 0.7109671 , 0.68691414]),\n",
       " 'mean_test_score': array([0.66890119, 0.66971572, 0.6697709 , 0.67989319, 0.66383663,\n",
       "        0.66878507, 0.67319821, 0.68000972, 0.66142034, 0.67232284,\n",
       "        0.67431391, 0.68113299, 0.66657334, 0.66063651, 0.67633423,\n",
       "        0.68212159, 0.65286075, 0.66418121, 0.67917154, 0.67896558,\n",
       "        0.66451185, 0.66155379, 0.67275453, 0.68040055, 0.6642155 ,\n",
       "        0.66381241, 0.67534813, 0.68224056, 0.66662444, 0.66728085,\n",
       "        0.67436273, 0.67674207, 0.6585454 , 0.66488821, 0.67507242,\n",
       "        0.67974137, 0.6620327 , 0.66908706, 0.67530846, 0.68214418,\n",
       "        0.66001957, 0.67326895, 0.6746282 , 0.6817996 , 0.66050701,\n",
       "        0.67076684, 0.6777817 , 0.68119365, 0.66707027, 0.67704581,\n",
       "        0.68065117, 0.68389573, 0.6663192 , 0.673056  , 0.68108216,\n",
       "        0.68880031, 0.65710625, 0.67468502, 0.6818499 , 0.68617759,\n",
       "        0.66443496, 0.6774168 , 0.68309295, 0.69615727, 0.65991107,\n",
       "        0.67718996, 0.67687343, 0.69466581, 0.67195594, 0.6712506 ,\n",
       "        0.68588933, 0.69277884, 0.67153579, 0.67870257, 0.69618227,\n",
       "        0.69300469, 0.66967329, 0.68828307, 0.69419655, 0.70270459,\n",
       "        0.67453715, 0.68819816, 0.69455833, 0.70013505, 0.68323154,\n",
       "        0.68700702, 0.69693038, 0.71032088, 0.68090904, 0.69432169,\n",
       "        0.70392988, 0.71113798, 0.68059121, 0.69563849, 0.70161856,\n",
       "        0.71260389, 0.68855681, 0.69746347, 0.70070563, 0.71196385,\n",
       "        0.68688896, 0.69739016, 0.70371839, 0.7147326 , 0.68458535,\n",
       "        0.7039512 , 0.70159891, 0.71387872, 0.68061694, 0.69229067,\n",
       "        0.70130431, 0.70900021, 0.68224335, 0.68050887, 0.6983768 ,\n",
       "        0.69576817, 0.67731206, 0.69072757, 0.69848833, 0.68981356]),\n",
       " 'std_test_score': array([0.0184194 , 0.02343342, 0.0195003 , 0.0219801 , 0.01785902,\n",
       "        0.02076224, 0.016653  , 0.01835492, 0.01748846, 0.01352006,\n",
       "        0.01983758, 0.01796045, 0.02008568, 0.02182916, 0.01714741,\n",
       "        0.01705061, 0.02210707, 0.01514868, 0.02156378, 0.01939729,\n",
       "        0.01232334, 0.01791122, 0.02338576, 0.02039308, 0.01861255,\n",
       "        0.02059928, 0.01556508, 0.0151007 , 0.01447881, 0.01827043,\n",
       "        0.02044798, 0.01731634, 0.0240753 , 0.0243294 , 0.0205535 ,\n",
       "        0.01609516, 0.01296869, 0.02185589, 0.02008633, 0.02196384,\n",
       "        0.00986898, 0.01939231, 0.02155055, 0.01922766, 0.02190486,\n",
       "        0.01958477, 0.02178853, 0.02049612, 0.01347292, 0.01775565,\n",
       "        0.02103606, 0.01494795, 0.01949249, 0.01503354, 0.01401922,\n",
       "        0.01196417, 0.01553314, 0.01287623, 0.01515594, 0.02009104,\n",
       "        0.02779258, 0.01127776, 0.0210362 , 0.0135415 , 0.02310246,\n",
       "        0.01522563, 0.02103329, 0.01438799, 0.01418523, 0.02109123,\n",
       "        0.01380467, 0.00879265, 0.01577327, 0.01627389, 0.01463852,\n",
       "        0.00668782, 0.01899035, 0.01662517, 0.00413454, 0.00296258,\n",
       "        0.01095483, 0.00709849, 0.00250864, 0.00200018, 0.00527663,\n",
       "        0.01003242, 0.00890749, 0.00108566, 0.01588391, 0.00345737,\n",
       "        0.00184547, 0.00838157, 0.0112395 , 0.00165267, 0.00377753,\n",
       "        0.01164968, 0.01058809, 0.00269609, 0.00718056, 0.00937081,\n",
       "        0.01041603, 0.00772009, 0.00980103, 0.00877883, 0.00873348,\n",
       "        0.00569543, 0.01173116, 0.0092982 , 0.01154205, 0.00857768,\n",
       "        0.0038812 , 0.00693634, 0.01200274, 0.01016839, 0.01228872,\n",
       "        0.0073374 , 0.01070369, 0.00921955, 0.00883869, 0.01016249]),\n",
       " 'rank_test_score': array([ 97,  94,  93,  63, 109,  98,  85,  62, 113,  88,  83,  54, 102,\n",
       "        114,  75,  50, 120, 108,  65,  66, 105, 112,  87,  61, 107, 110,\n",
       "         76,  48, 101,  99,  82,  74, 118, 104,  78,  64, 111,  96,  77,\n",
       "         49, 116,  84,  80,  52, 115,  92,  68,  53, 100,  72,  57,  44,\n",
       "        103,  86,  55,  35, 119,  79,  51,  41, 106,  69,  46,  23, 117,\n",
       "         71,  73,  26,  89,  91,  42,  31,  90,  67,  22,  30,  95,  37,\n",
       "         29,  11,  81,  38,  27,  16,  45,  39,  21,   6,  56,  28,   9,\n",
       "          5,  59,  25,  12,   3,  36,  19,  15,   4,  40,  20,  10,   1,\n",
       "         43,   8,  13,   2,  58,  32,  14,   7,  47,  60,  18,  24,  70,\n",
       "         33,  17,  34], dtype=int32),\n",
       " 'split0_train_score': array([0.79907412, 0.7794884 , 0.77130302, 0.76966197, 0.78893087,\n",
       "        0.77537128, 0.76918674, 0.77303429, 0.78780319, 0.78413016,\n",
       "        0.77392569, 0.77683995, 0.78665026, 0.78870587, 0.77468178,\n",
       "        0.77047122, 0.78689084, 0.78058386, 0.77429407, 0.7718137 ,\n",
       "        0.78919829, 0.77460767, 0.77232707, 0.77605863, 0.78879179,\n",
       "        0.77834084, 0.77640767, 0.77176108, 0.79204972, 0.78049741,\n",
       "        0.77118811, 0.77154682, 0.78798737, 0.78986255, 0.7749927 ,\n",
       "        0.76836782, 0.80343611, 0.79227741, 0.78421071, 0.77173423,\n",
       "        0.78686613, 0.78594841, 0.78209442, 0.77829305, 0.79891893,\n",
       "        0.78161972, 0.77389831, 0.77924353, 0.8009552 , 0.78254388,\n",
       "        0.7843659 , 0.78827896, 0.79633062, 0.79089143, 0.78925092,\n",
       "        0.78194406, 0.80605609, 0.79328104, 0.78782305, 0.78750891,\n",
       "        0.8031907 , 0.79749268, 0.7947857 , 0.79341637, 0.81298222,\n",
       "        0.79622806, 0.79454351, 0.8033271 , 0.81807398, 0.80791838,\n",
       "        0.8115753 , 0.80657053, 0.82223836, 0.81233031, 0.81862762,\n",
       "        0.81852559, 0.82891102, 0.81578478, 0.83407206, 0.82996406,\n",
       "        0.83226937, 0.83552301, 0.84217688, 0.84485218, 0.84499179,\n",
       "        0.84536178, 0.84801614, 0.85655485, 0.85608552, 0.85823134,\n",
       "        0.86463927, 0.86949422, 0.86300789, 0.8710472 , 0.87867893,\n",
       "        0.88210548, 0.87404254, 0.8804639 , 0.88775035, 0.89349939,\n",
       "        0.88419277, 0.89551633, 0.8997097 , 0.91115892, 0.88988758,\n",
       "        0.90432461, 0.91443833, 0.92077806, 0.90541363, 0.91504781,\n",
       "        0.92848229, 0.9325253 , 0.90934227, 0.93504487, 0.9454244 ,\n",
       "        0.95136085, 0.92722626, 0.94890303, 0.95594246, 0.96510409]),\n",
       " 'split1_train_score': array([0.77252191, 0.75654178, 0.75645666, 0.75102164, 0.77542812,\n",
       "        0.75756422, 0.75643365, 0.75954381, 0.78323939, 0.76931378,\n",
       "        0.75768039, 0.75908023, 0.77546826, 0.75904061, 0.76010053,\n",
       "        0.75968352, 0.78239948, 0.76306134, 0.75497385, 0.76018618,\n",
       "        0.7723201 , 0.74943605, 0.75723875, 0.75251998, 0.78139738,\n",
       "        0.76079162, 0.75165063, 0.76537978, 0.77847243, 0.76244787,\n",
       "        0.76303029, 0.75526934, 0.77948043, 0.76044848, 0.75333473,\n",
       "        0.76069526, 0.77533765, 0.76275675, 0.75582125, 0.75881471,\n",
       "        0.78460068, 0.76635672, 0.75631266, 0.76126002, 0.77267822,\n",
       "        0.76563673, 0.76197466, 0.75822426, 0.78748387, 0.76907343,\n",
       "        0.7650072 , 0.76607889, 0.782847  , 0.77111939, 0.77117667,\n",
       "        0.77191326, 0.78826061, 0.77455877, 0.77499612, 0.77002307,\n",
       "        0.78132725, 0.78231169, 0.77514172, 0.78058959, 0.79416617,\n",
       "        0.78377309, 0.77576001, 0.78888211, 0.79339479, 0.78525055,\n",
       "        0.78865942, 0.80245226, 0.80357267, 0.79979605, 0.8023709 ,\n",
       "        0.80982458, 0.79730203, 0.81155631, 0.82180486, 0.82862634,\n",
       "        0.81455352, 0.82197937, 0.83046834, 0.83967196, 0.82512914,\n",
       "        0.83073279, 0.84159855, 0.85516335, 0.84109107, 0.85010251,\n",
       "        0.85883077, 0.86830579, 0.85150128, 0.86069259, 0.87127249,\n",
       "        0.87661276, 0.86069152, 0.88042579, 0.88119557, 0.88190914,\n",
       "        0.87610368, 0.8859941 , 0.90377555, 0.90611969, 0.8898462 ,\n",
       "        0.89999946, 0.90807786, 0.9158281 , 0.89562597, 0.90621711,\n",
       "        0.92178398, 0.93007596, 0.90815226, 0.92620459, 0.93668117,\n",
       "        0.94412576, 0.91364724, 0.93896481, 0.94715187, 0.95750641]),\n",
       " 'split2_train_score': array([0.77154871, 0.75833186, 0.75476454, 0.75907648, 0.77136992,\n",
       "        0.76562763, 0.75395783, 0.74874443, 0.76897868, 0.7570348 ,\n",
       "        0.75980076, 0.75635281, 0.7686152 , 0.76232261, 0.75387432,\n",
       "        0.76092759, 0.7712832 , 0.76544776, 0.76163259, 0.75556376,\n",
       "        0.77592114, 0.76189543, 0.75524472, 0.75478488, 0.77138758,\n",
       "        0.7608141 , 0.75355206, 0.76356507, 0.78536939, 0.7594437 ,\n",
       "        0.75711938, 0.76222733, 0.76881594, 0.76440872, 0.76135584,\n",
       "        0.7612477 , 0.77518508, 0.76152821, 0.75450706, 0.7608414 ,\n",
       "        0.7826029 , 0.75751926, 0.75325925, 0.768074  , 0.77184688,\n",
       "        0.76766716, 0.76388412, 0.7656833 , 0.77552019, 0.76593543,\n",
       "        0.76392319, 0.76571274, 0.78072074, 0.76837163, 0.76870942,\n",
       "        0.77638525, 0.77578196, 0.77667218, 0.7734389 , 0.77461712,\n",
       "        0.78448559, 0.77210811, 0.77584245, 0.78812678, 0.77910999,\n",
       "        0.78723067, 0.79151102, 0.79042916, 0.79627637, 0.78561617,\n",
       "        0.79197942, 0.81048569, 0.79837212, 0.79806431, 0.80842741,\n",
       "        0.81347487, 0.80446022, 0.81342937, 0.82240441, 0.82099065,\n",
       "        0.82079954, 0.82876445, 0.82529777, 0.83509826, 0.82382459,\n",
       "        0.83477653, 0.84376174, 0.84819145, 0.8427409 , 0.84903457,\n",
       "        0.86102073, 0.86631871, 0.85418641, 0.85834685, 0.86922599,\n",
       "        0.88423667, 0.86759061, 0.87714325, 0.88618467, 0.8972394 ,\n",
       "        0.88151086, 0.89030764, 0.89671961, 0.9072417 , 0.88725101,\n",
       "        0.89812587, 0.90943862, 0.91765512, 0.8979262 , 0.91547908,\n",
       "        0.92982543, 0.94217615, 0.91760159, 0.92974835, 0.93768863,\n",
       "        0.94836007, 0.92587109, 0.94305995, 0.95501025, 0.96375778]),\n",
       " 'mean_train_score': array([0.78104825, 0.76478735, 0.76084141, 0.75992003, 0.7785763 ,\n",
       "        0.76618771, 0.7598594 , 0.76044084, 0.78000708, 0.77015958,\n",
       "        0.76380228, 0.764091  , 0.77691124, 0.77002303, 0.76288554,\n",
       "        0.76369411, 0.78019117, 0.76969765, 0.7636335 , 0.76252122,\n",
       "        0.77914651, 0.76197972, 0.76160351, 0.76112116, 0.78052558,\n",
       "        0.76664886, 0.76053679, 0.76690197, 0.78529718, 0.76746299,\n",
       "        0.76377926, 0.76301449, 0.77876125, 0.77157325, 0.76322775,\n",
       "        0.76343693, 0.78465295, 0.77218745, 0.76484634, 0.76379678,\n",
       "        0.78468991, 0.76994146, 0.76388878, 0.76920902, 0.78114801,\n",
       "        0.7716412 , 0.76658569, 0.76771703, 0.78798642, 0.77251758,\n",
       "        0.77109876, 0.77335687, 0.78663279, 0.77679415, 0.776379  ,\n",
       "        0.77674752, 0.79003289, 0.781504  , 0.77875269, 0.77738303,\n",
       "        0.78966785, 0.78397083, 0.78192329, 0.78737758, 0.79541946,\n",
       "        0.78907727, 0.78727152, 0.79421279, 0.80258171, 0.79292837,\n",
       "        0.79740471, 0.80650283, 0.80806105, 0.80339689, 0.80980864,\n",
       "        0.81394168, 0.81022442, 0.81359015, 0.82609377, 0.82652702,\n",
       "        0.82254081, 0.82875561, 0.83264766, 0.83987413, 0.83131518,\n",
       "        0.83695703, 0.84445881, 0.85330322, 0.84663917, 0.85245614,\n",
       "        0.86149692, 0.86803957, 0.85623186, 0.86336221, 0.87305914,\n",
       "        0.88098497, 0.86744156, 0.87934431, 0.88504353, 0.89088264,\n",
       "        0.88060244, 0.89060602, 0.90006829, 0.90817343, 0.88899493,\n",
       "        0.90081665, 0.9106516 , 0.91808709, 0.89965527, 0.912248  ,\n",
       "        0.92669723, 0.9349258 , 0.91169871, 0.9303326 , 0.9399314 ,\n",
       "        0.94794889, 0.9222482 , 0.9436426 , 0.95270153, 0.96212276]),\n",
       " 'std_train_score': array([0.01275241, 0.01042087, 0.00742966, 0.00763322, 0.00750689,\n",
       "        0.00728048, 0.00667242, 0.00993656, 0.00801775, 0.01107779,\n",
       "        0.00721048, 0.00908338, 0.00743315, 0.01327853, 0.00871989,\n",
       "        0.00481898, 0.00656034, 0.00775912, 0.00801334, 0.00683639,\n",
       "        0.00725813, 0.01027645, 0.00762627, 0.01060278, 0.00713193,\n",
       "        0.00826749, 0.01124922, 0.00351487, 0.00554314, 0.00929796,\n",
       "        0.0057679 , 0.00666852, 0.00784321, 0.01303316, 0.00894036,\n",
       "        0.00349395, 0.01328185, 0.01421459, 0.01370318, 0.00567328,\n",
       "        0.0017416 , 0.01187973, 0.01293355, 0.00699987, 0.01257052,\n",
       "        0.0071044 , 0.00522923, 0.00870074, 0.01038988, 0.00720448,\n",
       "        0.00939171, 0.01055257, 0.00691213, 0.0100312 , 0.00915738,\n",
       "        0.00410306, 0.01242274, 0.00837221, 0.00644515, 0.00740164,\n",
       "        0.00964864, 0.0104294 , 0.00909959, 0.00526324, 0.01385665,\n",
       "        0.0052497 , 0.00823347, 0.00647566, 0.01101767, 0.01060059,\n",
       "        0.01011137, 0.00327998, 0.01024723, 0.00635632, 0.00670826,\n",
       "        0.00356748, 0.01353272, 0.00173001, 0.0056468 , 0.00395271,\n",
       "        0.00733652, 0.00552917, 0.00706108, 0.00398459, 0.00968548,\n",
       "        0.00616808, 0.00266593, 0.00365893, 0.00671345, 0.00410689,\n",
       "        0.0023951 , 0.00130999, 0.00491517, 0.00551784, 0.00406067,\n",
       "        0.00321171, 0.00545155, 0.00155646, 0.00279499, 0.00652634,\n",
       "        0.00336425, 0.00389315, 0.00289172, 0.00216018, 0.00123325,\n",
       "        0.00259576, 0.00273464, 0.00204377, 0.00417866, 0.00426812,\n",
       "        0.0035172 , 0.00522337, 0.00420214, 0.0036326 , 0.00390585,\n",
       "        0.00296799, 0.00610691, 0.00407812, 0.00394261, 0.0033102 ])}"
      ]
     },
     "execution_count": 188,
     "metadata": {},
     "output_type": "execute_result"
    }
   ],
   "source": [
    "GBC_ac.cv_results_ "
   ]
  },
  {
   "cell_type": "code",
   "execution_count": 187,
   "metadata": {},
   "outputs": [
    {
     "name": "stderr",
     "output_type": "stream",
     "text": [
      "/anaconda3/lib/python3.6/site-packages/sklearn/utils/deprecation.py:122: FutureWarning: You are accessing a training score ('split0_train_score'), which will not be available by default any more in 0.21. If you need training scores, please set return_train_score=True\n",
      "  warnings.warn(*warn_args, **warn_kwargs)\n",
      "/anaconda3/lib/python3.6/site-packages/sklearn/utils/deprecation.py:122: FutureWarning: You are accessing a training score ('split1_train_score'), which will not be available by default any more in 0.21. If you need training scores, please set return_train_score=True\n",
      "  warnings.warn(*warn_args, **warn_kwargs)\n",
      "/anaconda3/lib/python3.6/site-packages/sklearn/utils/deprecation.py:122: FutureWarning: You are accessing a training score ('split2_train_score'), which will not be available by default any more in 0.21. If you need training scores, please set return_train_score=True\n",
      "  warnings.warn(*warn_args, **warn_kwargs)\n",
      "/anaconda3/lib/python3.6/site-packages/sklearn/utils/deprecation.py:122: FutureWarning: You are accessing a training score ('mean_train_score'), which will not be available by default any more in 0.21. If you need training scores, please set return_train_score=True\n",
      "  warnings.warn(*warn_args, **warn_kwargs)\n",
      "/anaconda3/lib/python3.6/site-packages/sklearn/utils/deprecation.py:122: FutureWarning: You are accessing a training score ('std_train_score'), which will not be available by default any more in 0.21. If you need training scores, please set return_train_score=True\n",
      "  warnings.warn(*warn_args, **warn_kwargs)\n"
     ]
    },
    {
     "data": {
      "text/plain": [
       "{'mean_fit_time': array([0.00619062, 0.00945171, 0.00715669, 0.01618965, 0.01676289,\n",
       "        0.02336041, 0.04801265, 0.03803531, 0.06479661, 0.05753644,\n",
       "        0.18851821, 0.08131234, 1.29280106, 0.09164651]),\n",
       " 'std_fit_time': array([0.00094485, 0.0007802 , 0.00062472, 0.00093862, 0.00179387,\n",
       "        0.00062606, 0.00727104, 0.00572212, 0.0111329 , 0.00551892,\n",
       "        0.0450137 , 0.00404629, 0.36142247, 0.0097292 ]),\n",
       " 'mean_score_time': array([0.00103871, 0.00111628, 0.0010759 , 0.00124272, 0.00117755,\n",
       "        0.00129175, 0.001254  , 0.00122595, 0.00163436, 0.00139395,\n",
       "        0.00146874, 0.00136034, 0.00140071, 0.00125917]),\n",
       " 'std_score_time': array([1.07911619e-04, 2.82771538e-05, 6.99484879e-05, 5.34512737e-05,\n",
       "        6.94590975e-05, 7.26382807e-05, 5.22466209e-05, 9.33391736e-06,\n",
       "        3.26567200e-04, 1.40173139e-04, 1.36300426e-04, 2.42534189e-05,\n",
       "        1.93408565e-04, 3.36648009e-05]),\n",
       " 'param_C': masked_array(data=[0.001, 0.001, 0.01, 0.01, 0.1, 0.1, 1, 1, 10, 10, 100,\n",
       "                    100, 1000, 1000],\n",
       "              mask=[False, False, False, False, False, False, False, False,\n",
       "                    False, False, False, False, False, False],\n",
       "        fill_value='?',\n",
       "             dtype=object),\n",
       " 'param_penalty': masked_array(data=['l1', 'l2', 'l1', 'l2', 'l1', 'l2', 'l1', 'l2', 'l1',\n",
       "                    'l2', 'l1', 'l2', 'l1', 'l2'],\n",
       "              mask=[False, False, False, False, False, False, False, False,\n",
       "                    False, False, False, False, False, False],\n",
       "        fill_value='?',\n",
       "             dtype=object),\n",
       " 'params': [{'C': 0.001, 'penalty': 'l1'},\n",
       "  {'C': 0.001, 'penalty': 'l2'},\n",
       "  {'C': 0.01, 'penalty': 'l1'},\n",
       "  {'C': 0.01, 'penalty': 'l2'},\n",
       "  {'C': 0.1, 'penalty': 'l1'},\n",
       "  {'C': 0.1, 'penalty': 'l2'},\n",
       "  {'C': 1, 'penalty': 'l1'},\n",
       "  {'C': 1, 'penalty': 'l2'},\n",
       "  {'C': 10, 'penalty': 'l1'},\n",
       "  {'C': 10, 'penalty': 'l2'},\n",
       "  {'C': 100, 'penalty': 'l1'},\n",
       "  {'C': 100, 'penalty': 'l2'},\n",
       "  {'C': 1000, 'penalty': 'l1'},\n",
       "  {'C': 1000, 'penalty': 'l2'}],\n",
       " 'split0_test_score': array([0.5       , 0.84094183, 0.86287165, 0.83942752, 0.86465374,\n",
       "        0.8122253 , 0.74934441, 0.73824561, 0.68578024, 0.69180055,\n",
       "        0.66912281, 0.67244691, 0.66749769, 0.66819945]),\n",
       " 'split1_test_score': array([0.5       , 0.78799727, 0.79035074, 0.80175752, 0.82783556,\n",
       "        0.7982273 , 0.79120483, 0.78429623, 0.77309824, 0.7707068 ,\n",
       "        0.76554434, 0.76252657, 0.7544792 , 0.75066429]),\n",
       " 'split2_test_score': array([0.5       , 0.83434558, 0.77571743, 0.83314986, 0.87290275,\n",
       "        0.83254251, 0.8292021 , 0.8091406 , 0.78534012, 0.77968418,\n",
       "        0.77715988, 0.77520498, 0.77719784, 0.77512906]),\n",
       " 'mean_test_score': array([0.5       , 0.82110394, 0.80967089, 0.82478498, 0.85513503,\n",
       "        0.81433074, 0.78989861, 0.7772097 , 0.74804445, 0.74737182,\n",
       "        0.73724459, 0.73669684, 0.73302834, 0.73130214]),\n",
       " 'std_test_score': array([0.        , 0.02355641, 0.03811523, 0.01647787, 0.01958875,\n",
       "        0.01408494, 0.03261854, 0.02937629, 0.04434   , 0.03949206,\n",
       "        0.04843492, 0.0457562 , 0.04728695, 0.04575379]),\n",
       " 'rank_test_score': array([14,  3,  5,  2,  1,  4,  6,  7,  8,  9, 10, 11, 12, 13],\n",
       "       dtype=int32),\n",
       " 'split0_train_score': array([0.5       , 0.84265392, 0.82506216, 0.86992769, 0.87172364,\n",
       "        0.88392518, 0.89349093, 0.89392271, 0.89606267, 0.89600099,\n",
       "        0.89611961, 0.89609114, 0.8961718 , 0.8961718 ]),\n",
       " 'split1_train_score': array([0.5       , 0.86609103, 0.86152802, 0.88160056, 0.88716275,\n",
       "        0.89182637, 0.89510238, 0.89573418, 0.89601966, 0.89592138,\n",
       "        0.89587926, 0.89588862, 0.89586522, 0.89586522]),\n",
       " 'split2_train_score': array([0.5       , 0.85130689, 0.74744355, 0.86257166, 0.86338598,\n",
       "        0.86801919, 0.86726103, 0.86736867, 0.86678835, 0.86672283,\n",
       "        0.86673219, 0.86673687, 0.86671815, 0.86671347]),\n",
       " 'mean_train_score': array([0.5       , 0.85335061, 0.81134458, 0.87136664, 0.87409079,\n",
       "        0.88125691, 0.88528478, 0.88567519, 0.88629022, 0.88621506,\n",
       "        0.88624368, 0.88623887, 0.88625172, 0.88625016]),\n",
       " 'std_train_score': array([0.        , 0.00967667, 0.04757412, 0.00783487, 0.00985008,\n",
       "        0.00990068, 0.01276168, 0.01296577, 0.01378992, 0.01378313,\n",
       "        0.01379706, 0.01379025, 0.01381289, 0.0138151 ])}"
      ]
     },
     "execution_count": 187,
     "metadata": {},
     "output_type": "execute_result"
    }
   ],
   "source": [
    "log_ipo_n.cv_results_ "
   ]
  },
  {
   "cell_type": "code",
   "execution_count": 210,
   "metadata": {},
   "outputs": [
    {
     "name": "stderr",
     "output_type": "stream",
     "text": [
      "/anaconda3/lib/python3.6/site-packages/sklearn/metrics/classification.py:1135: UndefinedMetricWarning: Precision is ill-defined and being set to 0.0 due to no predicted samples.\n",
      "  'precision', 'predicted', average, warn_for)\n",
      "/anaconda3/lib/python3.6/site-packages/sklearn/metrics/classification.py:1135: UndefinedMetricWarning: Precision is ill-defined and being set to 0.0 due to no predicted samples.\n",
      "  'precision', 'predicted', average, warn_for)\n",
      "/anaconda3/lib/python3.6/site-packages/sklearn/metrics/classification.py:1135: UndefinedMetricWarning: Precision is ill-defined and being set to 0.0 due to no predicted samples.\n",
      "  'precision', 'predicted', average, warn_for)\n",
      "/anaconda3/lib/python3.6/site-packages/sklearn/metrics/classification.py:1135: UndefinedMetricWarning: Precision is ill-defined and being set to 0.0 due to no predicted samples.\n",
      "  'precision', 'predicted', average, warn_for)\n",
      "/anaconda3/lib/python3.6/site-packages/sklearn/metrics/classification.py:1135: UndefinedMetricWarning: Precision is ill-defined and being set to 0.0 due to no predicted samples.\n",
      "  'precision', 'predicted', average, warn_for)\n",
      "/anaconda3/lib/python3.6/site-packages/sklearn/metrics/classification.py:1135: UndefinedMetricWarning: Precision is ill-defined and being set to 0.0 due to no predicted samples.\n",
      "  'precision', 'predicted', average, warn_for)\n",
      "/anaconda3/lib/python3.6/site-packages/sklearn/metrics/classification.py:1135: UndefinedMetricWarning: Precision is ill-defined and being set to 0.0 due to no predicted samples.\n",
      "  'precision', 'predicted', average, warn_for)\n",
      "/anaconda3/lib/python3.6/site-packages/sklearn/metrics/classification.py:1135: UndefinedMetricWarning: Precision is ill-defined and being set to 0.0 due to no predicted samples.\n",
      "  'precision', 'predicted', average, warn_for)\n",
      "/anaconda3/lib/python3.6/site-packages/sklearn/metrics/classification.py:1135: UndefinedMetricWarning: Precision is ill-defined and being set to 0.0 due to no predicted samples.\n",
      "  'precision', 'predicted', average, warn_for)\n",
      "/anaconda3/lib/python3.6/site-packages/sklearn/metrics/classification.py:1135: UndefinedMetricWarning: Precision is ill-defined and being set to 0.0 due to no predicted samples.\n",
      "  'precision', 'predicted', average, warn_for)\n",
      "/anaconda3/lib/python3.6/site-packages/sklearn/metrics/classification.py:1135: UndefinedMetricWarning: Precision is ill-defined and being set to 0.0 due to no predicted samples.\n",
      "  'precision', 'predicted', average, warn_for)\n",
      "/anaconda3/lib/python3.6/site-packages/sklearn/metrics/classification.py:1135: UndefinedMetricWarning: Precision is ill-defined and being set to 0.0 due to no predicted samples.\n",
      "  'precision', 'predicted', average, warn_for)\n",
      "/anaconda3/lib/python3.6/site-packages/sklearn/metrics/classification.py:1135: UndefinedMetricWarning: Precision is ill-defined and being set to 0.0 due to no predicted samples.\n",
      "  'precision', 'predicted', average, warn_for)\n",
      "/anaconda3/lib/python3.6/site-packages/sklearn/metrics/classification.py:1135: UndefinedMetricWarning: Precision is ill-defined and being set to 0.0 due to no predicted samples.\n",
      "  'precision', 'predicted', average, warn_for)\n",
      "/anaconda3/lib/python3.6/site-packages/sklearn/metrics/classification.py:1135: UndefinedMetricWarning: Precision is ill-defined and being set to 0.0 due to no predicted samples.\n",
      "  'precision', 'predicted', average, warn_for)\n",
      "/anaconda3/lib/python3.6/site-packages/sklearn/metrics/classification.py:1135: UndefinedMetricWarning: Precision is ill-defined and being set to 0.0 due to no predicted samples.\n",
      "  'precision', 'predicted', average, warn_for)\n",
      "/anaconda3/lib/python3.6/site-packages/sklearn/metrics/classification.py:1135: UndefinedMetricWarning: Precision is ill-defined and being set to 0.0 due to no predicted samples.\n",
      "  'precision', 'predicted', average, warn_for)\n",
      "/anaconda3/lib/python3.6/site-packages/sklearn/metrics/classification.py:1135: UndefinedMetricWarning: Precision is ill-defined and being set to 0.0 due to no predicted samples.\n",
      "  'precision', 'predicted', average, warn_for)\n",
      "/anaconda3/lib/python3.6/site-packages/sklearn/metrics/classification.py:1135: UndefinedMetricWarning: Precision is ill-defined and being set to 0.0 due to no predicted samples.\n",
      "  'precision', 'predicted', average, warn_for)\n",
      "/anaconda3/lib/python3.6/site-packages/sklearn/metrics/classification.py:1135: UndefinedMetricWarning: Precision is ill-defined and being set to 0.0 due to no predicted samples.\n",
      "  'precision', 'predicted', average, warn_for)\n",
      "/anaconda3/lib/python3.6/site-packages/sklearn/metrics/classification.py:1135: UndefinedMetricWarning: Precision is ill-defined and being set to 0.0 due to no predicted samples.\n",
      "  'precision', 'predicted', average, warn_for)\n",
      "/anaconda3/lib/python3.6/site-packages/sklearn/metrics/classification.py:1135: UndefinedMetricWarning: Precision is ill-defined and being set to 0.0 due to no predicted samples.\n",
      "  'precision', 'predicted', average, warn_for)\n",
      "/anaconda3/lib/python3.6/site-packages/sklearn/metrics/classification.py:1135: UndefinedMetricWarning: Precision is ill-defined and being set to 0.0 due to no predicted samples.\n",
      "  'precision', 'predicted', average, warn_for)\n",
      "/anaconda3/lib/python3.6/site-packages/sklearn/metrics/classification.py:1135: UndefinedMetricWarning: Precision is ill-defined and being set to 0.0 due to no predicted samples.\n",
      "  'precision', 'predicted', average, warn_for)\n",
      "/anaconda3/lib/python3.6/site-packages/sklearn/metrics/classification.py:1135: UndefinedMetricWarning: Precision is ill-defined and being set to 0.0 due to no predicted samples.\n",
      "  'precision', 'predicted', average, warn_for)\n",
      "/anaconda3/lib/python3.6/site-packages/sklearn/metrics/classification.py:1135: UndefinedMetricWarning: Precision is ill-defined and being set to 0.0 due to no predicted samples.\n",
      "  'precision', 'predicted', average, warn_for)\n",
      "/anaconda3/lib/python3.6/site-packages/sklearn/metrics/classification.py:1135: UndefinedMetricWarning: Precision is ill-defined and being set to 0.0 due to no predicted samples.\n",
      "  'precision', 'predicted', average, warn_for)\n"
     ]
    }
   ],
   "source": [
    "recall_score_ac_n=[]\n",
    "precision_score_ac_n=[]\n",
    "\n",
    "for i in np.linspace(0,1,100):\n",
    "    y_score=log_ac_n.predict_proba(X1_test_n)[:,1]>i\n",
    "#     sklearn.metrics.recall_score(y1_ac_test, y_pred)#, labels=None, pos_label=1, average=’binary’, sample_weight=None)\n",
    "    \n",
    "    precision_score_ac_n.append(metrics.precision_score(y1_ac_test, y_score))#, labels=None, pos_label=1, average=’binary’, sample_weight=None)\n",
    "    recall_score_ac_n.append(metrics.recall_score(y1_ac_test, y_score))"
   ]
  },
  {
   "cell_type": "code",
   "execution_count": 219,
   "metadata": {},
   "outputs": [
    {
     "data": {
      "image/png": "[encoded data removed]",
      "text/plain": [
       "<Figure size 720x720 with 1 Axes>"
      ]
     },
     "metadata": {},
     "output_type": "display_data"
    }
   ],
   "source": [
    "plt.figure(figsize= [10,10])\n",
    "x=np.linspace(0,1,100)\n",
    "y=recall_score_ac_n\n",
    "y2=precision_score_ac_n\n",
    "plt.plot(x,y)\n",
    "plt.plot(x,y2)\n",
    "plt.axvline(0.234, color='g', linestyle='solid');"
   ]
  },
  {
   "cell_type": "code",
   "execution_count": 221,
   "metadata": {},
   "outputs": [
    {
     "data": {
      "text/plain": [
       "array([[873,  92],\n",
       "       [ 93,  39]])"
      ]
     },
     "execution_count": 221,
     "metadata": {},
     "output_type": "execute_result"
    }
   ],
   "source": [
    "y_ac_predlogn=log_ac_n.predict_proba(X1_test_n)[:,1] >0.234\n",
    "# y_ac_predlogn=log_ac_n.predict_proba(X1_test_n)[:,1] >x[np.argmax(roc_auc_ac_n)]\n",
    "\n",
    "cm_ac_logn=confusion_matrix(y1_ac_test, y_ac_predlogn)\n",
    "cm_ac_logn"
   ]
  },
  {
   "cell_type": "code",
   "execution_count": 231,
   "metadata": {},
   "outputs": [
    {
     "name": "stdout",
     "output_type": "stream",
     "text": [
      "             precision    recall  f1-score   support\n",
      "\n",
      "        0.0       0.90      0.90      0.90       965\n",
      "        1.0       0.30      0.30      0.30       132\n",
      "\n",
      "avg / total       0.83      0.83      0.83      1097\n",
      "\n"
     ]
    }
   ],
   "source": [
    "print(classification_report(y1_ac_test, y_ac_predlogn))"
   ]
  },
  {
   "cell_type": "code",
   "execution_count": 223,
   "metadata": {},
   "outputs": [
    {
     "name": "stderr",
     "output_type": "stream",
     "text": [
      "/anaconda3/lib/python3.6/site-packages/sklearn/metrics/classification.py:1135: UndefinedMetricWarning: Precision is ill-defined and being set to 0.0 due to no predicted samples.\n",
      "  'precision', 'predicted', average, warn_for)\n",
      "/anaconda3/lib/python3.6/site-packages/sklearn/metrics/classification.py:1135: UndefinedMetricWarning: Precision is ill-defined and being set to 0.0 due to no predicted samples.\n",
      "  'precision', 'predicted', average, warn_for)\n",
      "/anaconda3/lib/python3.6/site-packages/sklearn/metrics/classification.py:1135: UndefinedMetricWarning: Precision is ill-defined and being set to 0.0 due to no predicted samples.\n",
      "  'precision', 'predicted', average, warn_for)\n",
      "/anaconda3/lib/python3.6/site-packages/sklearn/metrics/classification.py:1135: UndefinedMetricWarning: Precision is ill-defined and being set to 0.0 due to no predicted samples.\n",
      "  'precision', 'predicted', average, warn_for)\n",
      "/anaconda3/lib/python3.6/site-packages/sklearn/metrics/classification.py:1135: UndefinedMetricWarning: Precision is ill-defined and being set to 0.0 due to no predicted samples.\n",
      "  'precision', 'predicted', average, warn_for)\n",
      "/anaconda3/lib/python3.6/site-packages/sklearn/metrics/classification.py:1135: UndefinedMetricWarning: Precision is ill-defined and being set to 0.0 due to no predicted samples.\n",
      "  'precision', 'predicted', average, warn_for)\n",
      "/anaconda3/lib/python3.6/site-packages/sklearn/metrics/classification.py:1135: UndefinedMetricWarning: Precision is ill-defined and being set to 0.0 due to no predicted samples.\n",
      "  'precision', 'predicted', average, warn_for)\n",
      "/anaconda3/lib/python3.6/site-packages/sklearn/metrics/classification.py:1135: UndefinedMetricWarning: Precision is ill-defined and being set to 0.0 due to no predicted samples.\n",
      "  'precision', 'predicted', average, warn_for)\n",
      "/anaconda3/lib/python3.6/site-packages/sklearn/metrics/classification.py:1135: UndefinedMetricWarning: Precision is ill-defined and being set to 0.0 due to no predicted samples.\n",
      "  'precision', 'predicted', average, warn_for)\n",
      "/anaconda3/lib/python3.6/site-packages/sklearn/metrics/classification.py:1135: UndefinedMetricWarning: Precision is ill-defined and being set to 0.0 due to no predicted samples.\n",
      "  'precision', 'predicted', average, warn_for)\n",
      "/anaconda3/lib/python3.6/site-packages/sklearn/metrics/classification.py:1135: UndefinedMetricWarning: Precision is ill-defined and being set to 0.0 due to no predicted samples.\n",
      "  'precision', 'predicted', average, warn_for)\n",
      "/anaconda3/lib/python3.6/site-packages/sklearn/metrics/classification.py:1135: UndefinedMetricWarning: Precision is ill-defined and being set to 0.0 due to no predicted samples.\n",
      "  'precision', 'predicted', average, warn_for)\n"
     ]
    }
   ],
   "source": [
    "recall_score_ipo_n=[]\n",
    "precision_score_ipo_n=[]\n",
    "\n",
    "for i in np.linspace(0,1,100):\n",
    "    y_score=log_ipo_n.predict_proba(X1_test_n)[:,1]>i\n",
    "#     sklearn.metrics.recall_score(y1_ac_test, y_pred)#, labels=None, pos_label=1, average=’binary’, sample_weight=None)\n",
    "    \n",
    "    precision_score_ipo_n.append(metrics.precision_score(y1_ipo_test, y_score))#, labels=None, pos_label=1, average=’binary’, sample_weight=None)\n",
    "    recall_score_ipo_n.append(metrics.recall_score(y1_ipo_test, y_score))\n",
    "\n"
   ]
  },
  {
   "cell_type": "code",
   "execution_count": 229,
   "metadata": {},
   "outputs": [
    {
     "data": {
      "image/png": "[encoded data removed]",
      "text/plain": [
       "<Figure size 720x720 with 1 Axes>"
      ]
     },
     "metadata": {},
     "output_type": "display_data"
    }
   ],
   "source": [
    "plt.figure(figsize= [10,10])\n",
    "x=np.linspace(0,1,100)\n",
    "y=recall_score_ipo_n\n",
    "y2=precision_score_ipo_n\n",
    "plt.plot(x,y)\n",
    "plt.plot(x,y2)\n",
    "plt.axvline(0.11, color='g', linestyle='solid');"
   ]
  },
  {
   "cell_type": "code",
   "execution_count": 235,
   "metadata": {},
   "outputs": [
    {
     "data": {
      "text/plain": [
       "array([[615, 454],\n",
       "       [ 10,  18]])"
      ]
     },
     "execution_count": 235,
     "metadata": {},
     "output_type": "execute_result"
    }
   ],
   "source": [
    "y_ipo_predlogn=log_ac_n.predict_proba(X1_test_n)[:,1] >0.11\n",
    "# y_ac_predlogn=log_ac_n.predict_proba(X1_test_n)[:,1] >x[np.argmax(roc_auc_ac_n)]\n",
    "\n",
    "cm_ipo_logn=confusion_matrix(y1_ipo_test, y_ipo_predlogn)\n",
    "cm_ipo_logn"
   ]
  },
  {
   "cell_type": "code",
   "execution_count": 236,
   "metadata": {},
   "outputs": [
    {
     "name": "stdout",
     "output_type": "stream",
     "text": [
      "             precision    recall  f1-score   support\n",
      "\n",
      "        0.0       0.98      0.58      0.73      1069\n",
      "        1.0       0.04      0.64      0.07        28\n",
      "\n",
      "avg / total       0.96      0.58      0.71      1097\n",
      "\n"
     ]
    }
   ],
   "source": [
    "print(classification_report(y1_ipo_test, y_ipo_predlogn))"
   ]
  },
  {
   "cell_type": "code",
   "execution_count": 237,
   "metadata": {},
   "outputs": [
    {
     "name": "stdout",
     "output_type": "stream",
     "text": [
      "             precision    recall  f1-score   support\n",
      "\n",
      "        0.0       0.98      0.99      0.99      1069\n",
      "        1.0       0.25      0.07      0.11        28\n",
      "\n",
      "avg / total       0.96      0.97      0.96      1097\n",
      "\n"
     ]
    }
   ],
   "source": [
    "y_ipo_predlogn=log_ac_n.predict_proba(X1_test_n)[:,1] >0.5\n",
    "print(classification_report(y1_ipo_test, y_ipo_predlogn))"
   ]
  },
  {
   "cell_type": "code",
   "execution_count": 238,
   "metadata": {},
   "outputs": [
    {
     "data": {
      "text/plain": [
       "array([[1063,    6],\n",
       "       [  26,    2]])"
      ]
     },
     "execution_count": 238,
     "metadata": {},
     "output_type": "execute_result"
    }
   ],
   "source": [
    "cm_ipo_logn=confusion_matrix(y1_ipo_test, y_ipo_predlogn)\n",
    "cm_ipo_logn"
   ]
  },
  {
   "cell_type": "code",
   "execution_count": 250,
   "metadata": {},
   "outputs": [
    {
     "data": {
      "text/plain": [
       "63"
      ]
     },
     "execution_count": 250,
     "metadata": {},
     "output_type": "execute_result"
    }
   ],
   "source": [
    "\n",
    "\n",
    "len(log_ac_n.best_estimator_.coef_[0])"
   ]
  },
  {
   "cell_type": "code",
   "execution_count": 251,
   "metadata": {},
   "outputs": [
    {
     "data": {
      "text/plain": [
       "63"
      ]
     },
     "execution_count": 251,
     "metadata": {},
     "output_type": "execute_result"
    }
   ],
   "source": [
    "len(X1.columns)"
   ]
  },
  {
   "cell_type": "code",
   "execution_count": 252,
   "metadata": {},
   "outputs": [],
   "source": [
    "names = X1.columns\n",
    "coefs = log_ac_n.best_estimator_.coef_[0]"
   ]
  },
  {
   "cell_type": "code",
   "execution_count": 255,
   "metadata": {},
   "outputs": [
    {
     "data": {
      "image/png": "[encoded data removed]",
      "text/plain": [
       "<Figure size 1080x1080 with 1 Axes>"
      ]
     },
     "metadata": {},
     "output_type": "display_data"
    }
   ],
   "source": [
    "plt.figure(figsize= [15,15])\n",
    "crange = np.arange(len(names))\n",
    "# # print(crange.shape, coefs.shape)\n",
    "plt.barh(crange, sorted(coefs))\n",
    "plt.yticks(crange, names);"
   ]
  },
  {
   "cell_type": "code",
   "execution_count": null,
   "metadata": {},
   "outputs": [],
   "source": []
  }
 ],
 "metadata": {
  "kernelspec": {
   "display_name": "Python 3",
   "language": "python",
   "name": "python3"
  },
  "language_info": {
   "codemirror_mode": {
    "name": "ipython",
    "version": 3
   },
   "file_extension": ".py",
   "mimetype": "text/x-python",
   "name": "python",
   "nbconvert_exporter": "python",
   "pygments_lexer": "ipython3",
   "version": "3.6.5"
  }
 },
 "nbformat": 4,
 "nbformat_minor": 2
}
